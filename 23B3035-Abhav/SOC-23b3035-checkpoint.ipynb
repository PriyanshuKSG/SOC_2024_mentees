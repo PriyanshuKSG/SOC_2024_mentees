{
 "cells": [
  {
   "cell_type": "markdown",
   "metadata": {
    "id": "eFK9pJ4ZFNWA"
   },
   "source": [
    "**You can use Google but don't use ChatGPT and Gemini. You are here to learn. Follow the instructions given below and write the code in that cell only.**\n"
   ]
  },
  {
   "cell_type": "code",
   "execution_count": 2,
   "metadata": {
    "id": "ID1GIlQxfnl3",
    "scrolled": true
   },
   "outputs": [
    {
     "name": "stdout",
     "output_type": "stream",
     "text": [
      "10\n",
      "2.5\n",
      "Kami\n",
      "<class 'int'> <class 'float'> <class 'str'>\n",
      "KamiAbhav Singh\n"
     ]
    }
   ],
   "source": [
    "# Question 1: Create three variables one containing an integer value,\n",
    "# one containing floating point value and the last one contains string value.\n",
    "# Accept the value of all three variables from the user.\n",
    "# Print out the data types of the variables using a predifined function.\n",
    "# What is the square of the first and second variables? Add 97 to them. Subtract 3 from them and then divide them by the original value before squaring.\n",
    "# Append your name to the third variable and display the value.\n",
    "# Write your code in this cell.\n",
    "x = int(input())\n",
    "y = float(input())\n",
    "z = str(input())\n",
    "print(type(x),type(y),type(z))\n",
    "a = pow(((x*x + 97 - 3)/x),2)\n",
    "b = pow(((y*y + 97 - 3)/y),2)\n",
    "a1 = \"Abhav Singh\"\n",
    "print(z + a1)\n",
    "z = z + a1\n",
    "\n",
    "\n",
    "\n",
    "\n"
   ]
  },
  {
   "cell_type": "code",
   "execution_count": 3,
   "metadata": {
    "id": "9lHNLlcIinP6"
   },
   "outputs": [
    {
     "name": "stdout",
     "output_type": "stream",
     "text": [
      "Enter the number for which you want the multiplication table: 2\n",
      "2  x  1  =  2\n",
      "2  x  2  =  4\n",
      "2  x  3  =  6\n",
      "2  x  4  =  8\n",
      "2  x  5  =  10\n",
      "2  x  6  =  12\n",
      "2  x  7  =  14\n",
      "2  x  8  =  16\n",
      "2  x  9  =  18\n",
      "2  x  10  =  20\n",
      "2  x  11  =  22\n",
      "2  x  12  =  24\n",
      "2  x  13  =  26\n",
      "2  x  14  =  28\n",
      "2  x  15  =  30\n",
      "2  x  16  =  32\n",
      "2  x  17  =  34\n",
      "2  x  18  =  36\n",
      "2  x  19  =  38\n",
      "2  x  20  =  40\n"
     ]
    }
   ],
   "source": [
    "# Question 2: Define a function that accepts a value and prints out the multipication table from 1 to 20.\n",
    "# Write your code in this cell.\n",
    "def multiplication_table():\n",
    "    x = int(input(\"Enter the number for which you want the multiplication table: \"))\n",
    "    a = 1\n",
    "    while a <= 20:\n",
    "        print(x, \" x \", a, \" = \", x * a)\n",
    "        a += 1\n",
    "\n",
    "multiplication_table()\n"
   ]
  },
  {
   "cell_type": "code",
   "execution_count": 4,
   "metadata": {
    "id": "ZDXUDhZAi1Wd"
   },
   "outputs": [
    {
     "name": "stdout",
     "output_type": "stream",
     "text": [
      "5\n"
     ]
    }
   ],
   "source": [
    "# Question 3: How many vowels are present in the new value of the third variable?\n",
    "# Write your code in this cell.\n",
    "def Vowels(x):\n",
    "    y = 0\n",
    "    for v in x:\n",
    "        if( v == 'a' or v == 'e' or v == 'o' or v == 'i' or v == 'u' or v == 'A' or v == \"E\" or v == 'O' or v == 'I' or v == 'U'):\n",
    "            y += 1\n",
    "        \n",
    "        \n",
    "    print (y)\n",
    "Vowels(z)  "
   ]
  },
  {
   "cell_type": "code",
   "execution_count": 48,
   "metadata": {
    "id": "NYG6NaFLmhXH"
   },
   "outputs": [],
   "source": [
    "# Question 4: Start\n",
    "# Import the numpy library\n",
    "import numpy as np\n"
   ]
  },
  {
   "cell_type": "code",
   "execution_count": 6,
   "metadata": {
    "id": "oSHPAEP21bVC"
   },
   "outputs": [],
   "source": [
    "# Create a numpy array of size 10.\n",
    "x = np.arange(10)\n"
   ]
  },
  {
   "cell_type": "code",
   "execution_count": 7,
   "metadata": {
    "id": "1MinSlqL1ddz"
   },
   "outputs": [
    {
     "name": "stdout",
     "output_type": "stream",
     "text": [
      "(10, 1)\n"
     ]
    }
   ],
   "source": [
    "# Resize the array to make it a column vector. So the shape will be (10, 1).\n",
    "# Print the shape of the array to verify your answer\n",
    "x = x.reshape(10,1)\n",
    "print(x.shape)\n",
    "\n"
   ]
  },
  {
   "cell_type": "code",
   "execution_count": 8,
   "metadata": {
    "id": "AT5sRZ5b1ff9"
   },
   "outputs": [],
   "source": [
    "# Create a numpy array of the above shape where all elements are 1\n",
    "# Add this array to the above column vector\n",
    "y = np.full((10,1),1)\n",
    "z = x+y\n",
    "\n"
   ]
  },
  {
   "cell_type": "code",
   "execution_count": 9,
   "metadata": {
    "id": "0310rxvx1ha3"
   },
   "outputs": [
    {
     "name": "stdout",
     "output_type": "stream",
     "text": [
      "[[1]\n",
      " [2]\n",
      " [3]\n",
      " [4]\n",
      " [5]]\n"
     ]
    }
   ],
   "source": [
    "# Print out the first 5 rows of the new column vector after addition\n",
    "print(z[:5])"
   ]
  },
  {
   "cell_type": "code",
   "execution_count": 10,
   "metadata": {
    "id": "4ETfZUga1jhk"
   },
   "outputs": [],
   "source": [
    "# Create a new array of the same shape which have random values\n",
    "\n",
    "v = np.random.rand(*z.shape)"
   ]
  },
  {
   "cell_type": "code",
   "execution_count": 11,
   "metadata": {
    "id": "cW_PV85q1l5m"
   },
   "outputs": [
    {
     "name": "stdout",
     "output_type": "stream",
     "text": [
      "[[0]\n",
      " [1]\n",
      " [2]\n",
      " [3]\n",
      " [4]\n",
      " [5]\n",
      " [6]\n",
      " [7]\n",
      " [8]\n",
      " [9]\n",
      " [1]\n",
      " [1]\n",
      " [1]\n",
      " [1]\n",
      " [1]\n",
      " [1]\n",
      " [1]\n",
      " [1]\n",
      " [1]\n",
      " [1]]\n",
      "[[0 1]\n",
      " [1 1]\n",
      " [2 1]\n",
      " [3 1]\n",
      " [4 1]\n",
      " [5 1]\n",
      " [6 1]\n",
      " [7 1]\n",
      " [8 1]\n",
      " [9 1]]\n"
     ]
    }
   ],
   "source": [
    "# Now perform hstack() and vstack() and print out the shape and write in\n",
    "# one line what difference you observe\n",
    "\n",
    "v1 = np.vstack([x,y])\n",
    "print(v1)\n",
    "v2 = np.hstack([x,y])\n",
    "print(v2)\n",
    "# vstack stacks them vertically hstack stacks them horizontally\n",
    "\n",
    "\n"
   ]
  },
  {
   "cell_type": "code",
   "execution_count": 12,
   "metadata": {
    "id": "uZhTfSAVEcNo"
   },
   "outputs": [
    {
     "name": "stdout",
     "output_type": "stream",
     "text": [
      "[     1    529     16 318096   5776   2116   1521]\n"
     ]
    }
   ],
   "source": [
    "# Make a list conatining 7 numbers (of your choice)\n",
    "# Convert this into numpy array\n",
    "# Explore how to do element wise squaring using (**) operator\n",
    "# Print out the result\n",
    "x = [1,23,4,564,76,46,39]\n",
    "y = np.array(x)\n",
    "print(pow(y,2))\n",
    "\n"
   ]
  },
  {
   "cell_type": "code",
   "execution_count": 53,
   "metadata": {
    "id": "Ak__1auv1noj"
   },
   "outputs": [
    {
     "name": "stdout",
     "output_type": "stream",
     "text": [
      "First array:\n",
      "[[  5.   3.   1.]\n",
      " [ 12.  13.  15.]\n",
      " [ 23. 240.  12.]\n",
      " [ 30.  30.  30.]]\n",
      "\n",
      "\n",
      "Second array:\n",
      "[1. 2. 3.]\n",
      "\n",
      "\n",
      "First Array + Second Array\n",
      "[[  6.   5.   4.]\n",
      " [ 13.  15.  18.]\n",
      " [ 24. 242.  15.]\n",
      " [ 31.  32.  33.]]\n"
     ]
    }
   ],
   "source": [
    "# Question 4: End\n",
    "# Explore broadcasting from the internet and explain what you understood with the help of an example\n",
    "# to multiply two arrays of different size or smaller ndim is expanded to the size of larger array by prepending it with 1 in its shape\n",
    "# Broadcasting helps in element to elemnt operations between two arrays of disimilar shape\n",
    "# Ex:-\n",
    "a = np.array([[5.0,3.0,1.0],[12.0,13.0,15.0],[23.0,240.0,12.0],[30.0,30.0,30.0]]) \n",
    "b = np.array([1.0,2.0,3.0])  \n",
    "print ('First array:') \n",
    "print (a) \n",
    "print ('\\n')  \n",
    "   \n",
    "print ('Second array:') \n",
    "print (b)\n",
    "print ('\\n')  \n",
    "   \n",
    "print ('First Array + Second Array') \n",
    "print (a + b)"
   ]
  },
  {
   "cell_type": "markdown",
   "metadata": {
    "id": "QiOvo5JkMl1L"
   },
   "source": [
    "**Dataset Link:** https://www.kaggle.com/datasets/himanshunakrani/iris-dataset"
   ]
  },
  {
   "cell_type": "markdown",
   "metadata": {
    "id": "uJNhA_dcINuG"
   },
   "source": [
    "**If you are using Google Colab:<br>\n",
    "Step 1: Upload the dataset on your drive<br>\n",
    "Step 2: In the left most part of you screen there are 5 options at the top and 3 options at the bottm.<br>\n",
    "Step 3: Click on Files option (last option in the top below the key symbol)<br>\n",
    "Step 4: Click on mount drive and wait.<br>\n",
    "Step 5: Now you can see a folder named drive.<br>\n",
    "Step 6: Click on it. Click on MyDrive. Now you can see all your files here.<br>\n",
    "Step 7: Use Ctrl+F to search the name of the dataset.<br>\n",
    "Step 8: Right click on it and click on copy path**\n",
    "\n",
    "\n",
    "\n",
    "\n"
   ]
  },
  {
   "cell_type": "markdown",
   "metadata": {
    "id": "h6HaxTkDLekA"
   },
   "source": [
    "**If you are using Jupyter Notebook:<br>\n",
    "Step 1: Create a new folder.<br>\n",
    "Step 2: Add the dataset in this folder<br>\n",
    "Step 3: Copy this notebook to the same folder.<br>\n",
    "Step 4: Now you can easily copy the path**"
   ]
  },
  {
   "cell_type": "code",
   "execution_count": 3,
   "metadata": {
    "id": "hGiUFU6q2Oye"
   },
   "outputs": [],
   "source": [
    "# Question 5: Start\n",
    "# import pandas library\n",
    "import pandas as pd\n"
   ]
  },
  {
   "cell_type": "code",
   "execution_count": 37,
   "metadata": {
    "id": "zI4vNQTBIMdu"
   },
   "outputs": [],
   "source": [
    "# Copy your path and store in the below variable.\n",
    "# Note that the path will be a string\n",
    "\n",
    "# Uncomment the below line\n",
    "\n",
    "path = pd.read_csv('iris.csv')\n",
    "\n",
    "\n",
    "# Load the dataframe\n"
   ]
  },
  {
   "cell_type": "code",
   "execution_count": 5,
   "metadata": {
    "id": "LVCrfnfnNNNm"
   },
   "outputs": [
    {
     "data": {
      "text/html": [
       "<div>\n",
       "<style scoped>\n",
       "    .dataframe tbody tr th:only-of-type {\n",
       "        vertical-align: middle;\n",
       "    }\n",
       "\n",
       "    .dataframe tbody tr th {\n",
       "        vertical-align: top;\n",
       "    }\n",
       "\n",
       "    .dataframe thead th {\n",
       "        text-align: right;\n",
       "    }\n",
       "</style>\n",
       "<table border=\"1\" class=\"dataframe\">\n",
       "  <thead>\n",
       "    <tr style=\"text-align: right;\">\n",
       "      <th></th>\n",
       "      <th>sepal_length</th>\n",
       "      <th>sepal_width</th>\n",
       "      <th>petal_length</th>\n",
       "      <th>petal_width</th>\n",
       "      <th>species</th>\n",
       "    </tr>\n",
       "  </thead>\n",
       "  <tbody>\n",
       "    <tr>\n",
       "      <th>0</th>\n",
       "      <td>5.1</td>\n",
       "      <td>3.5</td>\n",
       "      <td>1.4</td>\n",
       "      <td>0.2</td>\n",
       "      <td>setosa</td>\n",
       "    </tr>\n",
       "    <tr>\n",
       "      <th>1</th>\n",
       "      <td>4.9</td>\n",
       "      <td>3.0</td>\n",
       "      <td>1.4</td>\n",
       "      <td>0.2</td>\n",
       "      <td>setosa</td>\n",
       "    </tr>\n",
       "    <tr>\n",
       "      <th>2</th>\n",
       "      <td>4.7</td>\n",
       "      <td>3.2</td>\n",
       "      <td>1.3</td>\n",
       "      <td>0.2</td>\n",
       "      <td>setosa</td>\n",
       "    </tr>\n",
       "    <tr>\n",
       "      <th>3</th>\n",
       "      <td>4.6</td>\n",
       "      <td>3.1</td>\n",
       "      <td>1.5</td>\n",
       "      <td>0.2</td>\n",
       "      <td>setosa</td>\n",
       "    </tr>\n",
       "    <tr>\n",
       "      <th>4</th>\n",
       "      <td>5.0</td>\n",
       "      <td>3.6</td>\n",
       "      <td>1.4</td>\n",
       "      <td>0.2</td>\n",
       "      <td>setosa</td>\n",
       "    </tr>\n",
       "    <tr>\n",
       "      <th>5</th>\n",
       "      <td>5.4</td>\n",
       "      <td>3.9</td>\n",
       "      <td>1.7</td>\n",
       "      <td>0.4</td>\n",
       "      <td>setosa</td>\n",
       "    </tr>\n",
       "    <tr>\n",
       "      <th>6</th>\n",
       "      <td>4.6</td>\n",
       "      <td>3.4</td>\n",
       "      <td>1.4</td>\n",
       "      <td>0.3</td>\n",
       "      <td>setosa</td>\n",
       "    </tr>\n",
       "  </tbody>\n",
       "</table>\n",
       "</div>"
      ],
      "text/plain": [
       "   sepal_length  sepal_width  petal_length  petal_width species\n",
       "0           5.1          3.5           1.4          0.2  setosa\n",
       "1           4.9          3.0           1.4          0.2  setosa\n",
       "2           4.7          3.2           1.3          0.2  setosa\n",
       "3           4.6          3.1           1.5          0.2  setosa\n",
       "4           5.0          3.6           1.4          0.2  setosa\n",
       "5           5.4          3.9           1.7          0.4  setosa\n",
       "6           4.6          3.4           1.4          0.3  setosa"
      ]
     },
     "execution_count": 5,
     "metadata": {},
     "output_type": "execute_result"
    }
   ],
   "source": [
    "# Print out the first 7 rows using head()\n",
    "path.head(7)"
   ]
  },
  {
   "cell_type": "code",
   "execution_count": 6,
   "metadata": {
    "id": "XmY-Ku6rNZQv"
   },
   "outputs": [
    {
     "data": {
      "text/html": [
       "<div>\n",
       "<style scoped>\n",
       "    .dataframe tbody tr th:only-of-type {\n",
       "        vertical-align: middle;\n",
       "    }\n",
       "\n",
       "    .dataframe tbody tr th {\n",
       "        vertical-align: top;\n",
       "    }\n",
       "\n",
       "    .dataframe thead th {\n",
       "        text-align: right;\n",
       "    }\n",
       "</style>\n",
       "<table border=\"1\" class=\"dataframe\">\n",
       "  <thead>\n",
       "    <tr style=\"text-align: right;\">\n",
       "      <th></th>\n",
       "      <th>sepal_length</th>\n",
       "      <th>sepal_width</th>\n",
       "      <th>petal_length</th>\n",
       "      <th>petal_width</th>\n",
       "      <th>species</th>\n",
       "    </tr>\n",
       "  </thead>\n",
       "  <tbody>\n",
       "    <tr>\n",
       "      <th>140</th>\n",
       "      <td>6.7</td>\n",
       "      <td>3.1</td>\n",
       "      <td>5.6</td>\n",
       "      <td>2.4</td>\n",
       "      <td>virginica</td>\n",
       "    </tr>\n",
       "    <tr>\n",
       "      <th>141</th>\n",
       "      <td>6.9</td>\n",
       "      <td>3.1</td>\n",
       "      <td>5.1</td>\n",
       "      <td>2.3</td>\n",
       "      <td>virginica</td>\n",
       "    </tr>\n",
       "    <tr>\n",
       "      <th>142</th>\n",
       "      <td>5.8</td>\n",
       "      <td>2.7</td>\n",
       "      <td>5.1</td>\n",
       "      <td>1.9</td>\n",
       "      <td>virginica</td>\n",
       "    </tr>\n",
       "    <tr>\n",
       "      <th>143</th>\n",
       "      <td>6.8</td>\n",
       "      <td>3.2</td>\n",
       "      <td>5.9</td>\n",
       "      <td>2.3</td>\n",
       "      <td>virginica</td>\n",
       "    </tr>\n",
       "    <tr>\n",
       "      <th>144</th>\n",
       "      <td>6.7</td>\n",
       "      <td>3.3</td>\n",
       "      <td>5.7</td>\n",
       "      <td>2.5</td>\n",
       "      <td>virginica</td>\n",
       "    </tr>\n",
       "    <tr>\n",
       "      <th>145</th>\n",
       "      <td>6.7</td>\n",
       "      <td>3.0</td>\n",
       "      <td>5.2</td>\n",
       "      <td>2.3</td>\n",
       "      <td>virginica</td>\n",
       "    </tr>\n",
       "    <tr>\n",
       "      <th>146</th>\n",
       "      <td>6.3</td>\n",
       "      <td>2.5</td>\n",
       "      <td>5.0</td>\n",
       "      <td>1.9</td>\n",
       "      <td>virginica</td>\n",
       "    </tr>\n",
       "    <tr>\n",
       "      <th>147</th>\n",
       "      <td>6.5</td>\n",
       "      <td>3.0</td>\n",
       "      <td>5.2</td>\n",
       "      <td>2.0</td>\n",
       "      <td>virginica</td>\n",
       "    </tr>\n",
       "    <tr>\n",
       "      <th>148</th>\n",
       "      <td>6.2</td>\n",
       "      <td>3.4</td>\n",
       "      <td>5.4</td>\n",
       "      <td>2.3</td>\n",
       "      <td>virginica</td>\n",
       "    </tr>\n",
       "    <tr>\n",
       "      <th>149</th>\n",
       "      <td>5.9</td>\n",
       "      <td>3.0</td>\n",
       "      <td>5.1</td>\n",
       "      <td>1.8</td>\n",
       "      <td>virginica</td>\n",
       "    </tr>\n",
       "  </tbody>\n",
       "</table>\n",
       "</div>"
      ],
      "text/plain": [
       "     sepal_length  sepal_width  petal_length  petal_width    species\n",
       "140           6.7          3.1           5.6          2.4  virginica\n",
       "141           6.9          3.1           5.1          2.3  virginica\n",
       "142           5.8          2.7           5.1          1.9  virginica\n",
       "143           6.8          3.2           5.9          2.3  virginica\n",
       "144           6.7          3.3           5.7          2.5  virginica\n",
       "145           6.7          3.0           5.2          2.3  virginica\n",
       "146           6.3          2.5           5.0          1.9  virginica\n",
       "147           6.5          3.0           5.2          2.0  virginica\n",
       "148           6.2          3.4           5.4          2.3  virginica\n",
       "149           5.9          3.0           5.1          1.8  virginica"
      ]
     },
     "execution_count": 6,
     "metadata": {},
     "output_type": "execute_result"
    }
   ],
   "source": [
    "# Print out the last 10 rows\n",
    "path.tail(10)"
   ]
  },
  {
   "cell_type": "code",
   "execution_count": 7,
   "metadata": {
    "id": "LvK9ML7YON_s"
   },
   "outputs": [
    {
     "data": {
      "text/plain": [
       "(150, 5)"
      ]
     },
     "execution_count": 7,
     "metadata": {},
     "output_type": "execute_result"
    }
   ],
   "source": [
    "# How many rows and columns are there in this dataset\n",
    "path.shape"
   ]
  },
  {
   "cell_type": "code",
   "execution_count": 8,
   "metadata": {
    "id": "SJQWkiNDP8FY"
   },
   "outputs": [
    {
     "name": "stdout",
     "output_type": "stream",
     "text": [
      "<class 'pandas.core.frame.DataFrame'>\n",
      "RangeIndex: 150 entries, 0 to 149\n",
      "Data columns (total 5 columns):\n",
      " #   Column        Non-Null Count  Dtype  \n",
      "---  ------        --------------  -----  \n",
      " 0   sepal_length  150 non-null    float64\n",
      " 1   sepal_width   150 non-null    float64\n",
      " 2   petal_length  150 non-null    float64\n",
      " 3   petal_width   150 non-null    float64\n",
      " 4   species       150 non-null    object \n",
      "dtypes: float64(4), object(1)\n",
      "memory usage: 6.0+ KB\n"
     ]
    }
   ],
   "source": [
    "# Print the info of this dataset\n",
    "path.info()"
   ]
  },
  {
   "cell_type": "code",
   "execution_count": 9,
   "metadata": {
    "id": "GPCqLqNNSACB"
   },
   "outputs": [
    {
     "name": "stdout",
     "output_type": "stream",
     "text": [
      "sepal_length    0\n",
      "sepal_width     0\n",
      "petal_length    0\n",
      "petal_width     0\n",
      "species         0\n",
      "dtype: int64\n"
     ]
    }
   ],
   "source": [
    "# Check if the dataset has null values\n",
    "path.isnull()\n",
    "print(path.isnull().sum())"
   ]
  },
  {
   "cell_type": "code",
   "execution_count": 10,
   "metadata": {
    "id": "QlmsdjQDQCXv"
   },
   "outputs": [
    {
     "data": {
      "text/plain": [
       "0.7631607417008414"
      ]
     },
     "execution_count": 10,
     "metadata": {},
     "output_type": "execute_result"
    }
   ],
   "source": [
    "# From the describe method what is std (standard deviation) of petal_width\n",
    "path['petal_width'].std()"
   ]
  },
  {
   "cell_type": "code",
   "execution_count": 31,
   "metadata": {
    "id": "zS5be-zkQYIs"
   },
   "outputs": [
    {
     "name": "stdout",
     "output_type": "stream",
     "text": [
      "['sepal_length' 'sepal_width' 'petal_length' 'petal_width' 'species']\n"
     ]
    }
   ],
   "source": [
    "# Print out all the names of the column using a predifined method\n",
    "path.dtypes\n",
    "print(path.columns.values)"
   ]
  },
  {
   "cell_type": "code",
   "execution_count": 12,
   "metadata": {
    "id": "xpZRSnHTQrTB"
   },
   "outputs": [
    {
     "data": {
      "text/plain": [
       "(3,)"
      ]
     },
     "execution_count": 12,
     "metadata": {},
     "output_type": "execute_result"
    }
   ],
   "source": [
    "# How many types of values are there in species column\n",
    "path['species'].value_counts() \n",
    "#and\n",
    "(path['species'].value_counts()).shape"
   ]
  },
  {
   "cell_type": "code",
   "execution_count": 13,
   "metadata": {
    "id": "ICI6D0GFQdgL"
   },
   "outputs": [
    {
     "name": "stdout",
     "output_type": "stream",
     "text": [
      "(50, 5)\n"
     ]
    }
   ],
   "source": [
    "# Select all rows whose species column value is setosa\n",
    "# Print out the shape of this dataframe\n",
    "setosa = path[path['species'] == 'setosa']\n",
    "print(setosa.shape)"
   ]
  },
  {
   "cell_type": "code",
   "execution_count": 14,
   "metadata": {
    "id": "wvevwDbbQy6J"
   },
   "outputs": [
    {
     "name": "stdout",
     "output_type": "stream",
     "text": [
      "(50, 5)\n"
     ]
    }
   ],
   "source": [
    "# Select all rows whose species column value is virginica\n",
    "# Print out the shape of this dataframe\n",
    "virginica = path[path['species'] == 'virginica']\n",
    "print(virginica.shape)"
   ]
  },
  {
   "cell_type": "code",
   "execution_count": 18,
   "metadata": {
    "id": "fb2o9LD1Q4bx"
   },
   "outputs": [
    {
     "data": {
      "text/plain": [
       "(100, 5)"
      ]
     },
     "execution_count": 18,
     "metadata": {},
     "output_type": "execute_result"
    }
   ],
   "source": [
    "# Make a new dataframe called \"df_new\" by concatenating the above dataframes\n",
    "# Print out the shape of this dataframe\n",
    "PATH = [setosa,virginica]\n",
    "Path  = pd.concat(PATH)\n",
    "Path.shape"
   ]
  },
  {
   "cell_type": "code",
   "execution_count": 25,
   "metadata": {
    "id": "RI1ChgwdRj0P"
   },
   "outputs": [
    {
     "data": {
      "text/plain": [
       "5.843333333333334"
      ]
     },
     "execution_count": 25,
     "metadata": {},
     "output_type": "execute_result"
    }
   ],
   "source": [
    "# Print the average sepal_length of these two species\n",
    "path['sepal_length'].mean()"
   ]
  },
  {
   "cell_type": "code",
   "execution_count": 23,
   "metadata": {
    "id": "B_bfdYfgR7WE"
   },
   "outputs": [
    {
     "name": "stdout",
     "output_type": "stream",
     "text": [
      "10.0 30.02\n"
     ]
    }
   ],
   "source": [
    "# Create a new column called \"sepal_area\" which is computed by taking the product of sepal_length and sepal_width\n",
    "# Print the min and max area\n",
    "path['sepal_area'] =path['sepal_length']*path['sepal_width']\n",
    "print(path['sepal_area'].min(),path['sepal_area'].max())\n",
    "\n"
   ]
  },
  {
   "cell_type": "code",
   "execution_count": 28,
   "metadata": {
    "id": "fnYZwhJOSQ4Q"
   },
   "outputs": [
    {
     "name": "stdout",
     "output_type": "stream",
     "text": [
      "['sepal_length' 'sepal_width' 'petal_length' 'petal_width' 'species'\n",
      " 'sepal_area']\n"
     ]
    }
   ],
   "source": [
    "# Print out all the names of the columns using predefined method\n",
    "print(path.columns.values)"
   ]
  },
  {
   "cell_type": "code",
   "execution_count": 42,
   "metadata": {
    "id": "NbEhQJzHScsN"
   },
   "outputs": [],
   "source": [
    "# From the above output copy all the names except petal_length and store it in a list\n",
    "list = ['sepal_width', 'petal_length', 'petal_width', 'species',\n",
    " 'sepal_area']\n"
   ]
  },
  {
   "cell_type": "code",
   "execution_count": 38,
   "metadata": {
    "id": "A5AduuCSSs3G"
   },
   "outputs": [],
   "source": [
    "# From the above list create a new dataframe \"df_new2\" from df_new which have only the columns mentioned in the list\n",
    "# Print out the shape\n",
    "# There are two ways to do this,one is to delete the column in the original dataframe,with all the 150 rows or to make a new\n",
    "# data frame from above list,doing both\n",
    "path.drop('sepal_length',axis = 1,inplace =True)\n",
    "\n"
   ]
  },
  {
   "cell_type": "code",
   "execution_count": 43,
   "metadata": {},
   "outputs": [
    {
     "data": {
      "text/plain": [
       "0     sepal_width\n",
       "1    petal_length\n",
       "2     petal_width\n",
       "3         species\n",
       "4      sepal_area\n",
       "dtype: object"
      ]
     },
     "execution_count": 43,
     "metadata": {},
     "output_type": "execute_result"
    }
   ],
   "source": [
    "path_1 = pd.Series(list)\n",
    "path_1\n"
   ]
  },
  {
   "cell_type": "code",
   "execution_count": 45,
   "metadata": {
    "id": "afJyup97TNGP"
   },
   "outputs": [
    {
     "data": {
      "text/html": [
       "<div>\n",
       "<style scoped>\n",
       "    .dataframe tbody tr th:only-of-type {\n",
       "        vertical-align: middle;\n",
       "    }\n",
       "\n",
       "    .dataframe tbody tr th {\n",
       "        vertical-align: top;\n",
       "    }\n",
       "\n",
       "    .dataframe thead th {\n",
       "        text-align: right;\n",
       "    }\n",
       "</style>\n",
       "<table border=\"1\" class=\"dataframe\">\n",
       "  <thead>\n",
       "    <tr style=\"text-align: right;\">\n",
       "      <th></th>\n",
       "      <th>sepal_width</th>\n",
       "      <th>petal_length</th>\n",
       "      <th>petal_width</th>\n",
       "      <th>species</th>\n",
       "    </tr>\n",
       "  </thead>\n",
       "  <tbody>\n",
       "    <tr>\n",
       "      <th>0</th>\n",
       "      <td>3.5</td>\n",
       "      <td>1.4</td>\n",
       "      <td>0.2</td>\n",
       "      <td>1</td>\n",
       "    </tr>\n",
       "    <tr>\n",
       "      <th>1</th>\n",
       "      <td>3.0</td>\n",
       "      <td>1.4</td>\n",
       "      <td>0.2</td>\n",
       "      <td>1</td>\n",
       "    </tr>\n",
       "    <tr>\n",
       "      <th>2</th>\n",
       "      <td>3.2</td>\n",
       "      <td>1.3</td>\n",
       "      <td>0.2</td>\n",
       "      <td>1</td>\n",
       "    </tr>\n",
       "    <tr>\n",
       "      <th>3</th>\n",
       "      <td>3.1</td>\n",
       "      <td>1.5</td>\n",
       "      <td>0.2</td>\n",
       "      <td>1</td>\n",
       "    </tr>\n",
       "    <tr>\n",
       "      <th>4</th>\n",
       "      <td>3.6</td>\n",
       "      <td>1.4</td>\n",
       "      <td>0.2</td>\n",
       "      <td>1</td>\n",
       "    </tr>\n",
       "    <tr>\n",
       "      <th>...</th>\n",
       "      <td>...</td>\n",
       "      <td>...</td>\n",
       "      <td>...</td>\n",
       "      <td>...</td>\n",
       "    </tr>\n",
       "    <tr>\n",
       "      <th>145</th>\n",
       "      <td>3.0</td>\n",
       "      <td>5.2</td>\n",
       "      <td>2.3</td>\n",
       "      <td>0</td>\n",
       "    </tr>\n",
       "    <tr>\n",
       "      <th>146</th>\n",
       "      <td>2.5</td>\n",
       "      <td>5.0</td>\n",
       "      <td>1.9</td>\n",
       "      <td>0</td>\n",
       "    </tr>\n",
       "    <tr>\n",
       "      <th>147</th>\n",
       "      <td>3.0</td>\n",
       "      <td>5.2</td>\n",
       "      <td>2.0</td>\n",
       "      <td>0</td>\n",
       "    </tr>\n",
       "    <tr>\n",
       "      <th>148</th>\n",
       "      <td>3.4</td>\n",
       "      <td>5.4</td>\n",
       "      <td>2.3</td>\n",
       "      <td>0</td>\n",
       "    </tr>\n",
       "    <tr>\n",
       "      <th>149</th>\n",
       "      <td>3.0</td>\n",
       "      <td>5.1</td>\n",
       "      <td>1.8</td>\n",
       "      <td>0</td>\n",
       "    </tr>\n",
       "  </tbody>\n",
       "</table>\n",
       "<p>150 rows × 4 columns</p>\n",
       "</div>"
      ],
      "text/plain": [
       "     sepal_width  petal_length  petal_width species\n",
       "0            3.5           1.4          0.2       1\n",
       "1            3.0           1.4          0.2       1\n",
       "2            3.2           1.3          0.2       1\n",
       "3            3.1           1.5          0.2       1\n",
       "4            3.6           1.4          0.2       1\n",
       "..           ...           ...          ...     ...\n",
       "145          3.0           5.2          2.3       0\n",
       "146          2.5           5.0          1.9       0\n",
       "147          3.0           5.2          2.0       0\n",
       "148          3.4           5.4          2.3       0\n",
       "149          3.0           5.1          1.8       0\n",
       "\n",
       "[150 rows x 4 columns]"
      ]
     },
     "execution_count": 45,
     "metadata": {},
     "output_type": "execute_result"
    }
   ],
   "source": [
    "# Swap setosa with 1\n",
    "# Swap virginica with 0\n",
    "# Do this using replace()\n",
    "path_2 = path.replace('setosa',1)\n",
    "path_3 = path_2.replace('virginica',0)\n",
    "path_3"
   ]
  },
  {
   "cell_type": "markdown",
   "metadata": {
    "id": "0e_hs7ujViAg"
   },
   "source": [
    "**Assignment END<br>\n",
    "Please submit this on teams before the deadline**"
   ]
  }
 ],
 "metadata": {
  "colab": {
   "provenance": []
  },
  "kernelspec": {
   "display_name": "Python 3 (ipykernel)",
   "language": "python",
   "name": "python3"
  },
  "language_info": {
   "codemirror_mode": {
    "name": "ipython",
    "version": 3
   },
   "file_extension": ".py",
   "mimetype": "text/x-python",
   "name": "python",
   "nbconvert_exporter": "python",
   "pygments_lexer": "ipython3",
   "version": "3.11.5"
  }
 },
 "nbformat": 4,
 "nbformat_minor": 1
}
