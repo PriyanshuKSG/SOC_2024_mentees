{
  "cells": [
    {
      "cell_type": "markdown",
      "metadata": {
        "id": "eFK9pJ4ZFNWA"
      },
      "source": [
        "**You can use Google but don't use ChatGPT and Gemini. You are here to learn. Follow the instructions given below and write the code in that cell only.**\n"
      ]
    },
    {
      "cell_type": "code",
      "execution_count": null,
      "metadata": {
        "id": "ID1GIlQxfnl3"
      },
      "outputs": [],
      "source": [
        "# Question 1: Create three variables one containing an integer value,\n",
        "# one containing floating point value and the last one contains string value.\n",
        "# Accept the value of all three variables from the user.\n",
        "# Print out the data types of the variables using a predifined function.\n",
        "# What is the square of the first and second variables? Add 97 to them. Subtract 3 from them and then divide them by the original value before squaring.\n",
        "# Append your name to the third variable and display the value.\n",
        "# Write your code in this cell.\n",
        "\n",
        "\n",
        "# Request user input for an integer, a float, and a string\n",
        "integer_var = int(input(\"Please enter an integer: \"))\n",
        "float_var = float(input(\"Please enter a float: \"))\n",
        "string_var = input(\"Please enter a string: \")\n",
        "\n",
        "# Print the data types of each variable\n",
        "print(f\"The type of the integer variable is: {type(integer_var)}\")\n",
        "print(f\"The type of the float variable is: {type(float_var)}\")\n",
        "print(f\"The type of the string variable is: {type(string_var)}\")\n",
        "\n",
        "# Perform the specified operations on the integer and float variables\n",
        "integer_var_transformed = ((integer_var ** 2) + 97 - 3) / integer_var\n",
        "float_var_transformed = ((float_var ** 2) + 97 - 3) / float_var\n",
        "\n",
        "# Print the results\n",
        "print(f\"The transformed integer variable is: {integer_var_transformed}\")\n",
        "print(f\"The transformed float variable is: {float_var_transformed}\")\n",
        "\n",
        "# Append your name to the string variable\n",
        "string_var += \" Your Name\"  # replace \"Your Name\" with your actual name\n",
        "\n",
        "# Print the updated string\n",
        "print(f\"The updated string is: {string_var}\")\n"
      ]
    },
    {
      "cell_type": "code",
      "execution_count": null,
      "metadata": {
        "id": "9lHNLlcIinP6"
      },
      "outputs": [],
      "source": [
        "# Question 2: Define a function that accepts a value and prints out the multipication table from 1 to 20.\n",
        "# Write your code in this cell.\n",
        "\n",
        "def print_multiplication_table(n):\n",
        "    for i in range(1, 21):\n",
        "        print(f\"{n} x {i} = {n*i}\")\n",
        "\n",
        "# Test the function\n",
        "print_multiplication_table(5)\n"
      ]
    },
    {
      "cell_type": "code",
      "execution_count": null,
      "metadata": {
        "id": "ZDXUDhZAi1Wd"
      },
      "outputs": [],
      "source": [
        "# Question 3: How many vowels are present in the new value of the third variable?\n",
        "# Write your code in this cell.\n",
        "\n",
        "def count_vowels(s):\n",
        "    vowels = 'aeiouAEIOU'\n",
        "    return sum(1 for char in s if char in vowels)\n",
        "\n",
        "# Test the function\n",
        "str_val = \"Nischal\"  # replace \"Your Name\" with the new value of the third variable\n",
        "print(count_vowels(str_val))\n"
      ]
    },
    {
      "cell_type": "code",
      "execution_count": null,
      "metadata": {
        "id": "NYG6NaFLmhXH"
      },
      "outputs": [],
      "source": [
        "# Question 4: Start\n",
        "# Import the numpy library\n",
        "\n",
        "import numpy as np"
      ]
    },
    {
      "cell_type": "code",
      "execution_count": null,
      "metadata": {
        "id": "oSHPAEP21bVC"
      },
      "outputs": [],
      "source": [
        "# Create a numpy array of size 10.\n",
        "\n",
        "import numpy as np\n",
        "\n",
        "# Create a numpy array of size 10\n",
        "arr = np.zeros(10)\n",
        "\n",
        "print(arr)"
      ]
    },
    {
      "cell_type": "code",
      "execution_count": null,
      "metadata": {
        "id": "1MinSlqL1ddz"
      },
      "outputs": [],
      "source": [
        "# Resize the array to make it a column vector. So the shape will be (10, 1).\n",
        "# Print the shape of the array to verify your answer\n",
        "\n",
        "\n",
        "# Reshape the array to make it a column vector\n",
        "arr = arr.reshape(10, 1)\n",
        "\n",
        "# Print the shape of the array\n",
        "print(arr.shape)"
      ]
    },
    {
      "cell_type": "code",
      "execution_count": null,
      "metadata": {
        "id": "AT5sRZ5b1ff9"
      },
      "outputs": [],
      "source": [
        "# Create a numpy array of the above shape where all elements are 1\n",
        "# Add this array to the above column vector\n",
        "\n",
        "# Create a numpy array of the same shape as arr where all elements are 1\n",
        "ones_arr = np.ones_like(arr)\n",
        "\n",
        "# Add this array to the column vector\n",
        "result = arr + ones_arr\n",
        "\n",
        "print(result)\n"
      ]
    },
    {
      "cell_type": "code",
      "execution_count": null,
      "metadata": {
        "id": "0310rxvx1ha3"
      },
      "outputs": [],
      "source": [
        "# Print out the first 5 rows of the new column vector after addition\n",
        "\n",
        "print(result[:5])"
      ]
    },
    {
      "cell_type": "code",
      "execution_count": null,
      "metadata": {
        "id": "4ETfZUga1jhk"
      },
      "outputs": [],
      "source": [
        "# Create a new array of the same shape which have random values\n",
        "\n",
        "import numpy as np\n",
        "\n",
        "# Assuming 'arr' is your original numpy array\n",
        "# Create a new numpy array of the same shape as arr, filled with random values\n",
        "random_arr = np.random.rand(*arr.shape)\n",
        "\n",
        "# Print the new array\n",
        "print(random_arr)"
      ]
    },
    {
      "cell_type": "code",
      "execution_count": null,
      "metadata": {
        "id": "cW_PV85q1l5m"
      },
      "outputs": [],
      "source": [
        "# Now perform hstack() and vstack() and print out the shape and write in\n",
        "# one line what difference you observe\n",
        "\n",
        "\n",
        "import numpy as np\n",
        "\n",
        "# Assuming 'arr1' and 'arr2' are your original numpy arrays\n",
        "# Perform horizontal stack\n",
        "hstack_arr = np.hstack((arr1, arr2))\n",
        "\n",
        "# Perform vertical stack\n",
        "vstack_arr = np.vstack((arr1, arr2))\n",
        "\n",
        "# Print out the shapes\n",
        "print(\"Shape of hstack array:\", hstack_arr.shape)\n",
        "print(\"Shape of vstack array:\", vstack_arr.shape)\n",
        "\n",
        "# One line observation\n",
        "print(\"Observation: hstack increases the number of columns while vstack increases the number of rows.\")\n",
        "\n"
      ]
    },
    {
      "cell_type": "code",
      "execution_count": null,
      "metadata": {
        "id": "uZhTfSAVEcNo"
      },
      "outputs": [],
      "source": [
        "# Make a list conatining 7 numbers (of your choice)\n",
        "# Convert this into numpy array\n",
        "# Explore how to do element wise squaring using (**) operator\n",
        "# Print out the result\n",
        "\n",
        "import numpy as np\n",
        "\n",
        "# Create a list of 7 numbers\n",
        "numbers = [1, 2, 3, 4, 5, 6, 7]\n",
        "\n",
        "# Convert the list into a numpy array\n",
        "numbers_array = np.array(numbers)\n",
        "\n",
        "# Perform element-wise squaring using the ** operator\n",
        "squared_array = numbers_array ** 2\n",
        "\n",
        "# Print out the result\n",
        "print(squared_array)\n"
      ]
    },
    {
      "cell_type": "code",
      "execution_count": null,
      "metadata": {
        "id": "Ak__1auv1noj"
      },
      "outputs": [],
      "source": [
        "# Question 4: End\n",
        "# Explore broadcasting from the internet and explain what you understood with the help of an example.\n",
        "\n",
        "\"broadcasting is a mechanism that simplifies the arithematic operations between arrays especially when arrays having larger and different shapes\"\n",
        "\n"
      ]
    },
    {
      "cell_type": "markdown",
      "metadata": {
        "id": "QiOvo5JkMl1L"
      },
      "source": [
        "**Dataset Link:** https://www.kaggle.com/datasets/himanshunakrani/iris-dataset"
      ]
    },
    {
      "cell_type": "markdown",
      "metadata": {
        "id": "uJNhA_dcINuG"
      },
      "source": [
        "**If you are using Google Colab:<br>\n",
        "Step 1: Upload the dataset on your drive<br>\n",
        "Step 2: In the left most part of you screen there are 5 options at the top and 3 options at the bottm.<br>\n",
        "Step 3: Click on Files option (last option in the top below the key symbol)<br>\n",
        "Step 4: Click on mount drive and wait.<br>\n",
        "Step 5: Now you can see a folder named drive.<br>\n",
        "Step 6: Click on it. Click on MyDrive. Now you can see all your files here.<br>\n",
        "Step 7: Use Ctrl+F to search the name of the dataset.<br>\n",
        "Step 8: Right click on it and click on copy path**\n",
        "\n",
        "\n",
        "\n",
        "\n"
      ]
    },
    {
      "cell_type": "code",
      "source": [
        "from google.colab import drive\n",
        "drive.mount('/content/drive')"
      ],
      "metadata": {
        "colab": {
          "base_uri": "https://localhost:8080/"
        },
        "id": "9izB06uMjuIx",
        "outputId": "2479aba9-4a55-4360-ea19-809bfa9c4b95"
      },
      "execution_count": 1,
      "outputs": [
        {
          "output_type": "stream",
          "name": "stdout",
          "text": [
            "Mounted at /content/drive\n"
          ]
        }
      ]
    },
    {
      "cell_type": "markdown",
      "metadata": {
        "id": "h6HaxTkDLekA"
      },
      "source": [
        "**If you are using Jupyter Notebook:<br>\n",
        "Step 1: Create a new folder.<br>\n",
        "Step 2: Add the dataset in this folder<br>\n",
        "Step 3: Copy this notebook to the same folder.<br>\n",
        "Step 4: Now you can easily copy the path**"
      ]
    },
    {
      "cell_type": "code",
      "execution_count": null,
      "metadata": {
        "id": "zI4vNQTBIMdu"
      },
      "outputs": [],
      "source": [
        "# Copy your path and store in the below variable.\n",
        "# Note that the path will be a string\n",
        "\n",
        "# Uncomment the below line\n",
        "\n",
        "path = \"/content/iris.csv\"\n",
        "\n",
        "# Load the dataframe\n",
        "import pandas as pd\n",
        "df = pd.read_csv(path)"
      ]
    },
    {
      "cell_type": "code",
      "execution_count": null,
      "metadata": {
        "id": "LVCrfnfnNNNm"
      },
      "outputs": [],
      "source": [
        "# Print out the first 7 rows using head()\n",
        "df.head(7)"
      ]
    },
    {
      "cell_type": "code",
      "execution_count": null,
      "metadata": {
        "id": "XmY-Ku6rNZQv"
      },
      "outputs": [],
      "source": [
        "# Print out the last 10 rows\n",
        "df.tail(10)\n"
      ]
    },
    {
      "cell_type": "code",
      "execution_count": null,
      "metadata": {
        "id": "LvK9ML7YON_s"
      },
      "outputs": [],
      "source": [
        "# How many rows and columns are there in this dataset\n",
        "df.shape"
      ]
    },
    {
      "cell_type": "code",
      "execution_count": null,
      "metadata": {
        "id": "SJQWkiNDP8FY"
      },
      "outputs": [],
      "source": [
        "# Print the info of this dataset\n",
        "df.info()"
      ]
    },
    {
      "cell_type": "code",
      "execution_count": null,
      "metadata": {
        "id": "GPCqLqNNSACB"
      },
      "outputs": [],
      "source": [
        "# Check if the dataset has null values\n",
        "df.isnull().values.any()"
      ]
    },
    {
      "cell_type": "code",
      "execution_count": null,
      "metadata": {
        "id": "QlmsdjQDQCXv"
      },
      "outputs": [],
      "source": [
        "# From the describe method what is std (standard deviation) of petal_width\n",
        "df.describe()"
      ]
    },
    {
      "cell_type": "code",
      "execution_count": null,
      "metadata": {
        "id": "zS5be-zkQYIs"
      },
      "outputs": [],
      "source": [
        "# Print out all the names of the column using a predifined method\n",
        "df.columns\n"
      ]
    },
    {
      "cell_type": "code",
      "execution_count": null,
      "metadata": {
        "id": "xpZRSnHTQrTB"
      },
      "outputs": [],
      "source": [
        "# How many types of values are there in species column\n",
        "df['species'].nunique()\n"
      ]
    },
    {
      "cell_type": "code",
      "execution_count": null,
      "metadata": {
        "id": "ICI6D0GFQdgL"
      },
      "outputs": [],
      "source": [
        "# Select all rows whose species column value is setosa\n",
        "# Print out the shape of this dataframe\n",
        "df_setosa = df[df['species'] == 'setosa']\n",
        "df_setosa.shape"
      ]
    },
    {
      "cell_type": "code",
      "execution_count": null,
      "metadata": {
        "id": "wvevwDbbQy6J"
      },
      "outputs": [],
      "source": [
        "# Select all rows whose species column value is virginica\n",
        "# Print out the shape of this dataframe\n",
        "df_virginica = df[df['species'] == 'virginica']\n",
        "df_virginica.shape"
      ]
    },
    {
      "cell_type": "code",
      "execution_count": null,
      "metadata": {
        "id": "fb2o9LD1Q4bx"
      },
      "outputs": [],
      "source": [
        "# Make a new dataframe called \"df_new\" by concatenating the above dataframes\n",
        "# Print out the shape of this dataframe\n",
        "\n",
        "df_new = pd.concat([df_setosa, df_virginica])\n",
        "df_new.shape"
      ]
    },
    {
      "cell_type": "code",
      "execution_count": null,
      "metadata": {
        "id": "RI1ChgwdRj0P"
      },
      "outputs": [],
      "source": [
        "# Print the average sepal_length of these two species\n",
        "print(df_setosa['sepal_length'].mean())\n",
        "print(df_virginica['sepal_length'].mean())"
      ]
    },
    {
      "cell_type": "code",
      "execution_count": null,
      "metadata": {
        "id": "B_bfdYfgR7WE"
      },
      "outputs": [],
      "source": [
        "# Create a new column called \"sepal_area\" which is computed by taking the product of sepal_length and sepal_width\n",
        "# Print the min and max area\n",
        "df['sepal_area'] = df['sepal_length'] * df['sepal_width']\n",
        "print(df['sepal_area'].min())\n",
        "print(df['sepal_area'].max())\n"
      ]
    },
    {
      "cell_type": "code",
      "execution_count": null,
      "metadata": {
        "id": "fnYZwhJOSQ4Q"
      },
      "outputs": [],
      "source": [
        "# Print out all the names of the columns using predefined method\n",
        "df.columns"
      ]
    },
    {
      "cell_type": "code",
      "execution_count": null,
      "metadata": {
        "id": "NbEhQJzHScsN"
      },
      "outputs": [],
      "source": [
        "# From the above output copy all the names except petal_length and store it in a list\n",
        "column_names = list(df.columns)\n",
        "column_names.remove('petal_length')\n",
        "print(column_names)"
      ]
    },
    {
      "cell_type": "code",
      "execution_count": null,
      "metadata": {
        "id": "A5AduuCSSs3G"
      },
      "outputs": [],
      "source": [
        "# From the above list create a new dataframe \"df_new2\" from df_new which have only the columns mentioned in the list\n",
        "# Print out the shape\n",
        "df_new2 = df_new[column_names]\n",
        "df_new2.shape\n"
      ]
    },
    {
      "cell_type": "code",
      "execution_count": null,
      "metadata": {
        "id": "afJyup97TNGP"
      },
      "outputs": [],
      "source": [
        "# Swap setosa with 1\n",
        "# Swap virginica with 0\n",
        "# Do this using replace()\n",
        "df_new2['species'] = df_new2['species'].replace('setosa', 1)\n",
        "df_new2['species'] = df_new2['species'].replace('virginica', 0)"
      ]
    },
    {
      "cell_type": "markdown",
      "metadata": {
        "id": "0e_hs7ujViAg"
      },
      "source": [
        "**Assignment END<br>\n",
        "Please submit this on teams before the deadline**"
      ]
    }
  ],
  "metadata": {
    "colab": {
      "provenance": []
    },
    "kernelspec": {
      "display_name": "Python 3",
      "name": "python3"
    },
    "language_info": {
      "name": "python",
      "version": "3.12.1"
    }
  },
  "nbformat": 4,
  "nbformat_minor": 0
}