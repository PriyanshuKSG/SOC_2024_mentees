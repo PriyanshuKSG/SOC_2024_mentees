{
  "cells": [
    {
      "cell_type": "markdown",
      "metadata": {
        "id": "eFK9pJ4ZFNWA"
      },
      "source": [
        "**You can use Google but don't use ChatGPT and Gemini. You are here to learn. Follow the instructions given below and write the code in that cell only.**\n"
      ]
    },
    {
      "cell_type": "code",
      "execution_count": 70,
      "metadata": {},
      "outputs": [],
      "source": []
    },
    {
      "cell_type": "code",
      "execution_count": 1,
      "metadata": {
        "id": "ID1GIlQxfnl3"
      },
      "outputs": [
        {
          "name": "stdout",
          "output_type": "stream",
          "text": [
            "<class 'int'>\n",
            "<class 'float'>\n",
            "<class 'str'>\n",
            "400 5.4289000000000005\n",
            "24.7\n",
            "42.67334763948498\n",
            "demonanish\n"
          ]
        }
      ],
      "source": [
        "# Question 1: Create three variables one containing an integer value,\n",
        "# one containing floating point value and the last one contains string value.\n",
        "# Accept the value of all three variables from the user.\n",
        "# Print out the data types of the variables using a predifined function.\n",
        "# What is the square of the first and second variables? Add 97 to them. Subtract 3 from them and then divide them by the original value before squaring.\n",
        "# Append your name to the third variable and display the value.\n",
        "# Write your code in this cell.\n",
        "# Accept values from the user\n",
        "var1 = int(input(\"Enter an integer value: \"))\n",
        "var2 = float(input(\"Enter a float value: \"))\n",
        "var3 = input(\"Enter a string: \")\n",
        "print(type(var1))\n",
        "print(type(var2))\n",
        "print(type(var3))\n",
        "# square of first and second variables.\n",
        "print(var1**2, var2**2)\n",
        "# values after the given task\n",
        "print((var1**2 + 97 - 3)/ var1)\n",
        "print((var2**2 + 97 - 3)/ var2)\n",
        "\n",
        "a = var3 + \"anish\"\n",
        "print(a)"
      ]
    },
    {
      "cell_type": "code",
      "execution_count": 2,
      "metadata": {
        "id": "9lHNLlcIinP6"
      },
      "outputs": [
        {
          "name": "stdout",
          "output_type": "stream",
          "text": [
            "5\n",
            "10\n",
            "15\n",
            "20\n",
            "25\n",
            "30\n",
            "35\n",
            "40\n",
            "45\n",
            "50\n",
            "55\n",
            "60\n",
            "65\n",
            "70\n",
            "75\n",
            "80\n",
            "85\n",
            "90\n",
            "95\n",
            "100\n"
          ]
        }
      ],
      "source": [
        "# Question 2: Define a function that accepts a value and prints out the multipication table from 1 to 20.\n",
        "# Write your code in this cell.\n",
        "def table(value):\n",
        "    for i in range(1,21):\n",
        "        print(value*i)\n",
        "\n",
        "\n",
        "data = 5\n",
        "table(data)\n",
        "\n"
      ]
    },
    {
      "cell_type": "code",
      "execution_count": 3,
      "metadata": {
        "id": "ZDXUDhZAi1Wd"
      },
      "outputs": [
        {
          "name": "stdout",
          "output_type": "stream",
          "text": [
            "Number of vowels in demonanish is: 4\n"
          ]
        }
      ],
      "source": [
        "# Question 3: How many vowels are present in the new value of the third variable?\n",
        "# Write your code in this cell.\n",
        "\n",
        "vowels = \"aeiouAEIOU\"       # saved the vowels in a string , we'll find them in the third variable string.\n",
        "cnt = 0\n",
        "for i in a:\n",
        "    if i in vowels:\n",
        "        cnt += 1\n",
        "print(\"Number of vowels in\", a ,\"is:\", cnt)\n",
        "\n"
      ]
    },
    {
      "cell_type": "code",
      "execution_count": 5,
      "metadata": {
        "id": "NYG6NaFLmhXH"
      },
      "outputs": [
        {
          "name": "stdout",
          "output_type": "stream",
          "text": [
            "Requirement already satisfied: numpy in /Library/Frameworks/Python.framework/Versions/3.12/lib/python3.12/site-packages (1.26.4)\n",
            "Note: you may need to restart the kernel to use updated packages.\n"
          ]
        }
      ],
      "source": [
        "# Question 4: Start\n",
        "# Import the numpy library\n",
        "\n",
        "%pip install numpy\n",
        "import numpy as np\n"
      ]
    },
    {
      "cell_type": "code",
      "execution_count": 6,
      "metadata": {
        "id": "oSHPAEP21bVC"
      },
      "outputs": [
        {
          "name": "stdout",
          "output_type": "stream",
          "text": [
            "[ 1  2  3  4  5  6  7  8  9 10]\n"
          ]
        }
      ],
      "source": [
        "# Create a numpy array of size 10.\n",
        "arr = np.array([1,2,3,4,5,6,7,8,9,10])\n",
        "print(arr)\n"
      ]
    },
    {
      "cell_type": "code",
      "execution_count": 7,
      "metadata": {
        "id": "1MinSlqL1ddz"
      },
      "outputs": [
        {
          "name": "stdout",
          "output_type": "stream",
          "text": [
            "[[ 1]\n",
            " [ 2]\n",
            " [ 3]\n",
            " [ 4]\n",
            " [ 5]\n",
            " [ 6]\n",
            " [ 7]\n",
            " [ 8]\n",
            " [ 9]\n",
            " [10]]\n",
            "(10, 1)\n"
          ]
        }
      ],
      "source": [
        "# Resize the array to make it a column vector. So the shape will be (10, 1).\n",
        "# Print the shape of the array to verify your answer\n",
        "\n",
        "col_arr = arr.reshape(10,1)       \n",
        "print(col_arr)\n",
        "print(col_arr.shape)\n",
        "\n"
      ]
    },
    {
      "cell_type": "code",
      "execution_count": 8,
      "metadata": {
        "id": "AT5sRZ5b1ff9"
      },
      "outputs": [
        {
          "name": "stdout",
          "output_type": "stream",
          "text": [
            "[[ 2]\n",
            " [ 3]\n",
            " [ 4]\n",
            " [ 5]\n",
            " [ 6]\n",
            " [ 7]\n",
            " [ 8]\n",
            " [ 9]\n",
            " [10]\n",
            " [11]]\n"
          ]
        }
      ],
      "source": [
        "# Create a numpy array of the above shape where all elements are 1\n",
        "# Add this array to the above column vector\n",
        "\n",
        "allone = np.ones((10,1), dtype='int64')\n",
        "newarr = col_arr + allone\n",
        "print(newarr)\n"
      ]
    },
    {
      "cell_type": "code",
      "execution_count": 9,
      "metadata": {
        "id": "0310rxvx1ha3"
      },
      "outputs": [
        {
          "name": "stdout",
          "output_type": "stream",
          "text": [
            "[[2]\n",
            " [3]\n",
            " [4]\n",
            " [5]\n",
            " [6]]\n"
          ]
        }
      ],
      "source": [
        "# Print out the first 5 rows of the new column vector after addition\n",
        "print(newarr[ : 5 ])\n"
      ]
    },
    {
      "cell_type": "code",
      "execution_count": 10,
      "metadata": {
        "id": "4ETfZUga1jhk"
      },
      "outputs": [
        {
          "name": "stdout",
          "output_type": "stream",
          "text": [
            "[[-169]\n",
            " [ 772]\n",
            " [-869]\n",
            " [  81]\n",
            " [  62]\n",
            " [ 610]\n",
            " [-622]\n",
            " [-853]\n",
            " [   6]\n",
            " [ 861]]\n"
          ]
        }
      ],
      "source": [
        "# Create a new array of the same shape which have random values\n",
        "\n",
        "arr1 = np.random.randint(-1000,1000,(10,1))     # random int values from -1000 to 1000 \n",
        "print(arr1)"
      ]
    },
    {
      "cell_type": "code",
      "execution_count": 11,
      "metadata": {
        "id": "cW_PV85q1l5m"
      },
      "outputs": [
        {
          "name": "stdout",
          "output_type": "stream",
          "text": [
            "[[ 1  2  3  7  8  9]\n",
            " [ 4  5  6 10 11 12]]\n",
            "[[ 1  2  3]\n",
            " [ 4  5  6]\n",
            " [ 7  8  9]\n",
            " [10 11 12]]\n"
          ]
        }
      ],
      "source": [
        "# Now perform hstack() and vstack() and print out the shape and write in\n",
        "# one line what difference you observe\n",
        "\n",
        "\n",
        "a1 = np.array([[1,2,3],[4,5,6]])\n",
        "a2 = np.array([[7,8,9],[10,11,12]])\n",
        "\n",
        "a3 = np.hstack((a1,a2))     # Horizontally stacks/merges the arrays.\n",
        "print(a3)\n",
        "a4 = np.vstack((a1,a2))     # Vertically stacks/merges the arrays.\n",
        "print(a4)\n",
        "\n"
      ]
    },
    {
      "cell_type": "code",
      "execution_count": 12,
      "metadata": {
        "id": "uZhTfSAVEcNo"
      },
      "outputs": [
        {
          "name": "stdout",
          "output_type": "stream",
          "text": [
            "[ 1  4  9 16 25 36 49]\n"
          ]
        }
      ],
      "source": [
        "# Make a list conatining 7 numbers (of your choice)\n",
        "# Convert this into numpy array\n",
        "# Explore how to do element wise squaring using (**) operator\n",
        "# Print out the result\n",
        "\n",
        "lst = [1,2,3,4,5,6,7]\n",
        "a5 = np.array(lst)\n",
        "a5 = a5**2\n",
        "print(a5)\n"
      ]
    },
    {
      "cell_type": "code",
      "execution_count": 13,
      "metadata": {
        "id": "Ak__1auv1noj"
      },
      "outputs": [
        {
          "name": "stdout",
          "output_type": "stream",
          "text": [
            "[1 2 3 4]\n",
            "[[ 4]\n",
            " [ 9]\n",
            " [16]]\n",
            "\n",
            "\n",
            "[[ 5  6  7  8]\n",
            " [10 11 12 13]\n",
            " [17 18 19 20]]\n",
            "\n",
            "\n",
            "[1 2 3 4]\n",
            "[[ 4]\n",
            " [ 9]\n",
            " [16]]\n"
          ]
        }
      ],
      "source": [
        "# Question 4: End\n",
        "# Explore broadcasting from the internet and explain what you understood with the help of an example.\n",
        "\n",
        "'''\n",
        "Broadcasting defines how numpy deals with arrays during its arithmatic operations having different shapes.\n",
        "The smaller is broadcast across the larger array so that they have compatible shape to perform the arithematic\n",
        "operations given to it.\n",
        "\n",
        "'''\n",
        "# for example:-\n",
        "\n",
        "b = np.array([1,2,3,4])         # b is a (1,4) matrix\n",
        "c = np.array([4,9,16])\n",
        "c = c.reshape((3,1))            # c is a (3,1) matrix\n",
        "\n",
        "print(b)\n",
        "print(c)\n",
        "print('\\n')\n",
        "# if we add both arrays we'll get an (3,4) array\n",
        "d = b + c\n",
        "# b will broadcast itself into a (3,4) matrix having all rows identical and equal to [1,2,3,4].\n",
        "# c will broadcast itself intoi a (3,4) matrix having all columns idencal and equal to [4,9,16] in a column form.\n",
        "print(d)\n",
        "\n",
        "# but this will not change the original arrays.\n",
        "print('\\n')\n",
        "print(b)\n",
        "print(c)\n"
      ]
    },
    {
      "cell_type": "markdown",
      "metadata": {
        "id": "QiOvo5JkMl1L"
      },
      "source": [
        "**Dataset Link:** https://www.kaggle.com/datasets/himanshunakrani/iris-dataset"
      ]
    },
    {
      "cell_type": "markdown",
      "metadata": {
        "id": "uJNhA_dcINuG"
      },
      "source": [
        "**If you are using Google Colab:<br>\n",
        "Step 1: Upload the dataset on your drive<br>\n",
        "Step 2: In the left most part of you screen there are 5 options at the top and 3 options at the bottm.<br>\n",
        "Step 3: Click on Files option (last option in the top below the key symbol)<br>\n",
        "Step 4: Click on mount drive and wait.<br>\n",
        "Step 5: Now you can see a folder named drive.<br>\n",
        "Step 6: Click on it. Click on MyDrive. Now you can see all your files here.<br>\n",
        "Step 7: Use Ctrl+F to search the name of the dataset.<br>\n",
        "Step 8: Right click on it and click on copy path**\n",
        "\n",
        "\n",
        "\n",
        "\n"
      ]
    },
    {
      "cell_type": "markdown",
      "metadata": {
        "id": "h6HaxTkDLekA"
      },
      "source": [
        "**If you are using Jupyter Notebook:<br>\n",
        "Step 1: Create a new folder.<br>\n",
        "Step 2: Add the dataset in this folder<br>\n",
        "Step 3: Copy this notebook to the same folder.<br>\n",
        "Step 4: Now you can easily copy the path**"
      ]
    },
    {
      "cell_type": "code",
      "execution_count": 15,
      "metadata": {
        "id": "hGiUFU6q2Oye"
      },
      "outputs": [
        {
          "name": "stdout",
          "output_type": "stream",
          "text": [
            "Requirement already satisfied: pandas in /Library/Frameworks/Python.framework/Versions/3.12/lib/python3.12/site-packages (2.2.2)\n",
            "Requirement already satisfied: numpy>=1.26.0 in /Library/Frameworks/Python.framework/Versions/3.12/lib/python3.12/site-packages (from pandas) (1.26.4)\n",
            "Requirement already satisfied: python-dateutil>=2.8.2 in /Users/anish/Library/Python/3.12/lib/python/site-packages (from pandas) (2.9.0.post0)\n",
            "Requirement already satisfied: pytz>=2020.1 in /Library/Frameworks/Python.framework/Versions/3.12/lib/python3.12/site-packages (from pandas) (2024.1)\n",
            "Requirement already satisfied: tzdata>=2022.7 in /Library/Frameworks/Python.framework/Versions/3.12/lib/python3.12/site-packages (from pandas) (2024.1)\n",
            "Requirement already satisfied: six>=1.5 in /Users/anish/Library/Python/3.12/lib/python/site-packages (from python-dateutil>=2.8.2->pandas) (1.16.0)\n",
            "Note: you may need to restart the kernel to use updated packages.\n"
          ]
        }
      ],
      "source": [
        "# Question 5: Start\n",
        "# import pandas library\n",
        "\n",
        "%pip install pandas\n",
        "import pandas as pd"
      ]
    },
    {
      "cell_type": "code",
      "execution_count": 16,
      "metadata": {
        "id": "zI4vNQTBIMdu"
      },
      "outputs": [
        {
          "name": "stdout",
          "output_type": "stream",
          "text": [
            "     sepal_length  sepal_width  petal_length  petal_width    species\n",
            "0             5.1          3.5           1.4          0.2     setosa\n",
            "1             4.9          3.0           1.4          0.2     setosa\n",
            "2             4.7          3.2           1.3          0.2     setosa\n",
            "3             4.6          3.1           1.5          0.2     setosa\n",
            "4             5.0          3.6           1.4          0.2     setosa\n",
            "..            ...          ...           ...          ...        ...\n",
            "145           6.7          3.0           5.2          2.3  virginica\n",
            "146           6.3          2.5           5.0          1.9  virginica\n",
            "147           6.5          3.0           5.2          2.0  virginica\n",
            "148           6.2          3.4           5.4          2.3  virginica\n",
            "149           5.9          3.0           5.1          1.8  virginica\n",
            "\n",
            "[150 rows x 5 columns]\n"
          ]
        }
      ],
      "source": [
        "# Copy your path and store in the below variable.\n",
        "# Note that the path will be a string\n",
        "\n",
        "# Uncomment the below line\n",
        "\"\"\"\n",
        "path = your path of the dataset\n",
        "\"\"\"\n",
        "\n",
        "# Load the dataframe\n",
        "\n",
        "file = pd.read_csv('iris.csv')\n",
        "print(file)"
      ]
    },
    {
      "cell_type": "code",
      "execution_count": 17,
      "metadata": {
        "id": "LVCrfnfnNNNm"
      },
      "outputs": [
        {
          "name": "stdout",
          "output_type": "stream",
          "text": [
            "   sepal_length  sepal_width  petal_length  petal_width species\n",
            "0           5.1          3.5           1.4          0.2  setosa\n",
            "1           4.9          3.0           1.4          0.2  setosa\n",
            "2           4.7          3.2           1.3          0.2  setosa\n",
            "3           4.6          3.1           1.5          0.2  setosa\n",
            "4           5.0          3.6           1.4          0.2  setosa\n",
            "5           5.4          3.9           1.7          0.4  setosa\n",
            "6           4.6          3.4           1.4          0.3  setosa\n"
          ]
        }
      ],
      "source": [
        "# Print out the first 7 rows using head()\n",
        "print(file.head(7))\n"
      ]
    },
    {
      "cell_type": "code",
      "execution_count": 18,
      "metadata": {
        "id": "XmY-Ku6rNZQv"
      },
      "outputs": [
        {
          "name": "stdout",
          "output_type": "stream",
          "text": [
            "     sepal_length  sepal_width  petal_length  petal_width    species\n",
            "140           6.7          3.1           5.6          2.4  virginica\n",
            "141           6.9          3.1           5.1          2.3  virginica\n",
            "142           5.8          2.7           5.1          1.9  virginica\n",
            "143           6.8          3.2           5.9          2.3  virginica\n",
            "144           6.7          3.3           5.7          2.5  virginica\n",
            "145           6.7          3.0           5.2          2.3  virginica\n",
            "146           6.3          2.5           5.0          1.9  virginica\n",
            "147           6.5          3.0           5.2          2.0  virginica\n",
            "148           6.2          3.4           5.4          2.3  virginica\n",
            "149           5.9          3.0           5.1          1.8  virginica\n"
          ]
        }
      ],
      "source": [
        "# Print out the last 10 rows\n",
        "print(file.tail(10))"
      ]
    },
    {
      "cell_type": "code",
      "execution_count": 19,
      "metadata": {
        "id": "LvK9ML7YON_s"
      },
      "outputs": [
        {
          "name": "stdout",
          "output_type": "stream",
          "text": [
            "Number of rows in file is: 150\n",
            "Number of columns in file is: 5\n"
          ]
        }
      ],
      "source": [
        "# How many rows and columns are there in this dataset\n",
        "print(\"Number of rows in file is:\",file.shape[0])\n",
        "print(\"Number of columns in file is:\",file.shape[1])"
      ]
    },
    {
      "cell_type": "code",
      "execution_count": 20,
      "metadata": {
        "id": "SJQWkiNDP8FY"
      },
      "outputs": [
        {
          "name": "stdout",
          "output_type": "stream",
          "text": [
            "<class 'pandas.core.frame.DataFrame'>\n",
            "RangeIndex: 150 entries, 0 to 149\n",
            "Data columns (total 5 columns):\n",
            " #   Column        Non-Null Count  Dtype  \n",
            "---  ------        --------------  -----  \n",
            " 0   sepal_length  150 non-null    float64\n",
            " 1   sepal_width   150 non-null    float64\n",
            " 2   petal_length  150 non-null    float64\n",
            " 3   petal_width   150 non-null    float64\n",
            " 4   species       150 non-null    object \n",
            "dtypes: float64(4), object(1)\n",
            "memory usage: 6.0+ KB\n"
          ]
        }
      ],
      "source": [
        "# Print the info of this dataset\n",
        "file.info()"
      ]
    },
    {
      "cell_type": "code",
      "execution_count": 21,
      "metadata": {
        "id": "GPCqLqNNSACB"
      },
      "outputs": [
        {
          "name": "stdout",
          "output_type": "stream",
          "text": [
            "sepal_length    0\n",
            "sepal_width     0\n",
            "petal_length    0\n",
            "petal_width     0\n",
            "species         0\n",
            "dtype: int64\n"
          ]
        }
      ],
      "source": [
        "# Check if the dataset has null values\n",
        "\n",
        "null_values = file.isnull().sum()\n",
        "print(null_values)\n"
      ]
    },
    {
      "cell_type": "code",
      "execution_count": 22,
      "metadata": {
        "id": "QlmsdjQDQCXv"
      },
      "outputs": [
        {
          "name": "stdout",
          "output_type": "stream",
          "text": [
            "0.7631607417008411\n"
          ]
        }
      ],
      "source": [
        "# From the describe method what is std (standard deviation) of petal_width\n",
        "\n",
        "summary = file.describe()\n",
        "st_dev = summary.loc['std','petal_width']\n",
        "print(st_dev)\n"
      ]
    },
    {
      "cell_type": "code",
      "execution_count": 23,
      "metadata": {
        "id": "zS5be-zkQYIs"
      },
      "outputs": [
        {
          "name": "stdout",
          "output_type": "stream",
          "text": [
            "Index(['sepal_length', 'sepal_width', 'petal_length', 'petal_width',\n",
            "       'species'],\n",
            "      dtype='object')\n"
          ]
        }
      ],
      "source": [
        "# Print out all the names of the column using a predifined method\n",
        "print(file.columns)"
      ]
    },
    {
      "cell_type": "code",
      "execution_count": 24,
      "metadata": {
        "id": "xpZRSnHTQrTB"
      },
      "outputs": [
        {
          "name": "stdout",
          "output_type": "stream",
          "text": [
            "['setosa' 'versicolor' 'virginica']\n"
          ]
        }
      ],
      "source": [
        "# How many types of values are there in species column\n",
        "type = file['species'].unique()\n",
        "print(type)\n"
      ]
    },
    {
      "cell_type": "code",
      "execution_count": 25,
      "metadata": {
        "id": "ICI6D0GFQdgL"
      },
      "outputs": [
        {
          "name": "stdout",
          "output_type": "stream",
          "text": [
            "(50, 5)\n"
          ]
        }
      ],
      "source": [
        "# Select all rows whose species column value is setosa\n",
        "# Print out the shape of this dataframe\n",
        "\n",
        "setosa = file[file['species'] == \"setosa\"]\n",
        "print(setosa.shape)"
      ]
    },
    {
      "cell_type": "code",
      "execution_count": 26,
      "metadata": {
        "id": "wvevwDbbQy6J"
      },
      "outputs": [
        {
          "name": "stdout",
          "output_type": "stream",
          "text": [
            "(50, 5)\n"
          ]
        }
      ],
      "source": [
        "# Select all rows whose species column value is virginica\n",
        "# Print out the shape of this dataframe\n",
        "\n",
        "virginica = file[file['species'] == \"virginica\"]\n",
        "print(virginica.shape)"
      ]
    },
    {
      "cell_type": "code",
      "execution_count": 27,
      "metadata": {
        "id": "fb2o9LD1Q4bx"
      },
      "outputs": [
        {
          "name": "stdout",
          "output_type": "stream",
          "text": [
            "(100, 5)\n"
          ]
        }
      ],
      "source": [
        "# Make a new dataframe called \"df_new\" by concatenating the above dataframes\n",
        "# Print out the shape of this dataframe\n",
        "\n",
        "df_new = pd.concat([setosa,virginica], ignore_index = True)\n",
        "print(df_new.shape)\n"
      ]
    },
    {
      "cell_type": "code",
      "execution_count": 28,
      "metadata": {
        "id": "RI1ChgwdRj0P"
      },
      "outputs": [
        {
          "data": {
            "text/plain": [
              "species\n",
              "setosa       5.006\n",
              "virginica    6.588\n",
              "Name: sepal_length, dtype: float64"
            ]
          },
          "execution_count": 28,
          "metadata": {},
          "output_type": "execute_result"
        }
      ],
      "source": [
        "# Print the average sepal_length of these two species\n",
        "df_new.groupby('species')['sepal_length'].mean()"
      ]
    },
    {
      "cell_type": "code",
      "execution_count": 29,
      "metadata": {
        "id": "B_bfdYfgR7WE"
      },
      "outputs": [
        {
          "name": "stdout",
          "output_type": "stream",
          "text": [
            "Minimum sepal area is: 10.0\n",
            "Maximum sepal area is: 25.080000000000002\n"
          ]
        }
      ],
      "source": [
        "# Create a new column called \"sepal_area\" which is computed by taking the product of sepal_length and sepal_width\n",
        "# Print the min and max area\n",
        "\n",
        "df_new['sepal_area'] = file['sepal_length']*file['sepal_width']\n",
        "print('Minimum sepal area is:',df_new['sepal_area'].min())\n",
        "print('Maximum sepal area is:',df_new['sepal_area'].max())"
      ]
    },
    {
      "cell_type": "code",
      "execution_count": 30,
      "metadata": {
        "id": "fnYZwhJOSQ4Q"
      },
      "outputs": [
        {
          "data": {
            "text/plain": [
              "Index(['sepal_length', 'sepal_width', 'petal_length', 'petal_width', 'species',\n",
              "       'sepal_area'],\n",
              "      dtype='object')"
            ]
          },
          "execution_count": 30,
          "metadata": {},
          "output_type": "execute_result"
        }
      ],
      "source": [
        "# Print out all the names of the columns using predefined method\n",
        "df_new.columns"
      ]
    },
    {
      "cell_type": "code",
      "execution_count": 31,
      "metadata": {
        "id": "NbEhQJzHScsN"
      },
      "outputs": [],
      "source": [
        "# From the above output copy all the names except petal_length and store it in a list\n",
        "names = ['sepal_length', 'sepal_width', 'petal_width', 'species','sepal_area']"
      ]
    },
    {
      "cell_type": "code",
      "execution_count": 32,
      "metadata": {
        "id": "A5AduuCSSs3G"
      },
      "outputs": [
        {
          "name": "stdout",
          "output_type": "stream",
          "text": [
            "(100, 5)\n"
          ]
        }
      ],
      "source": [
        "# From the above list create a new dataframe \"df_new2\" from df_new which have only the columns mentioned in the list\n",
        "# Print out the shape\n",
        "df_new2 = df_new[names]\n",
        "print(df_new2.shape)\n"
      ]
    },
    {
      "cell_type": "code",
      "execution_count": 33,
      "metadata": {
        "id": "afJyup97TNGP"
      },
      "outputs": [
        {
          "name": "stdout",
          "output_type": "stream",
          "text": [
            "    sepal_length  sepal_width  petal_width  species  sepal_area\n",
            "0            5.1          3.5          0.2        1       17.85\n",
            "1            4.9          3.0          0.2        1       14.70\n",
            "2            4.7          3.2          0.2        1       15.04\n",
            "3            4.6          3.1          0.2        1       14.26\n",
            "4            5.0          3.6          0.2        1       18.00\n",
            "..           ...          ...          ...      ...         ...\n",
            "95           6.7          3.0          2.3        0       17.10\n",
            "96           6.3          2.5          1.9        0       16.53\n",
            "97           6.5          3.0          2.0        0       17.98\n",
            "98           6.2          3.4          2.3        0       12.75\n",
            "99           5.9          3.0          1.8        0       15.96\n",
            "\n",
            "[100 rows x 5 columns]\n"
          ]
        },
        {
          "name": "stderr",
          "output_type": "stream",
          "text": [
            "/var/folders/qd/k_nxlhp161gdwfh2kvvsftl80000gn/T/ipykernel_6591/4036480353.py:5: FutureWarning: Downcasting behavior in `replace` is deprecated and will be removed in a future version. To retain the old behavior, explicitly call `result.infer_objects(copy=False)`. To opt-in to the future behavior, set `pd.set_option('future.no_silent_downcasting', True)`\n",
            "  df_new2['species'] = df_new2['species'].replace({'setosa' : 1,'virginica' : 0})\n",
            "/var/folders/qd/k_nxlhp161gdwfh2kvvsftl80000gn/T/ipykernel_6591/4036480353.py:5: SettingWithCopyWarning: \n",
            "A value is trying to be set on a copy of a slice from a DataFrame.\n",
            "Try using .loc[row_indexer,col_indexer] = value instead\n",
            "\n",
            "See the caveats in the documentation: https://pandas.pydata.org/pandas-docs/stable/user_guide/indexing.html#returning-a-view-versus-a-copy\n",
            "  df_new2['species'] = df_new2['species'].replace({'setosa' : 1,'virginica' : 0})\n"
          ]
        }
      ],
      "source": [
        "# Swap setosa with 1\n",
        "# Swap virginica with 0\n",
        "# Do this using replace()\n",
        "\n",
        "df_new2['species'] = df_new2['species'].replace({'setosa' : 1,'virginica' : 0})\n",
        "print(df_new2)"
      ]
    },
    {
      "cell_type": "markdown",
      "metadata": {
        "id": "0e_hs7ujViAg"
      },
      "source": [
        "**Assignment END<br>\n",
        "Please submit this on teams before the deadline**"
      ]
    }
  ],
  "metadata": {
    "colab": {
      "provenance": []
    },
    "kernelspec": {
      "display_name": "Python 3",
      "name": "python3"
    },
    "language_info": {
      "codemirror_mode": {
        "name": "ipython",
        "version": 3
      },
      "file_extension": ".py",
      "mimetype": "text/x-python",
      "name": "python",
      "nbconvert_exporter": "python",
      "pygments_lexer": "ipython3",
      "version": "3.12.3"
    }
  },
  "nbformat": 4,
  "nbformat_minor": 0
}
