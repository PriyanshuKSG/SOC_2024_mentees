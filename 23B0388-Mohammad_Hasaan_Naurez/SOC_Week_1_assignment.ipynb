{
 "cells": [
  {
   "cell_type": "markdown",
   "metadata": {
    "id": "eFK9pJ4ZFNWA"
   },
   "source": [
    "**You can use Google but don't use ChatGPT and Gemini. You are here to learn. Follow the instructions given below and write the code in that cell only.**\n"
   ]
  },
  {
   "cell_type": "code",
   "execution_count": 40,
   "metadata": {
    "id": "ID1GIlQxfnl3"
   },
   "outputs": [
    {
     "name": "stdout",
     "output_type": "stream",
     "text": [
      "1\n",
      "2.4\n",
      "MYNAMEis\n",
      "<class 'int'> <class 'float'> <class 'str'>\n",
      "9025.0\n",
      "1613.3611111111115\n",
      "MYNAMEisHasaan\n"
     ]
    }
   ],
   "source": [
    "# Question 1: Create three variables one containing an integer value,\n",
    "# one containing floating point value and the last one contains string value.\n",
    "# Accept the value of all three variables from the user.\n",
    "# Print out the data types of the variables using a predifined function.\n",
    "# What is the square of the first and second variables? Add 97 to them. Subtract 3 from them and then divide them by the original value before squaring.\n",
    "# Append your name to the third variable and display the value.\n",
    "# Write your code in this cell.\n",
    "\n",
    "a = int(input())\n",
    "b = float(input())\n",
    "c = input()\n",
    "print(type(a),type(b),type(c))\n",
    "update_a = ((a + 97 - 3)/a)**2\n",
    "update_b = ((b + 97 - 3)/b)**2\n",
    "print( update_a)\n",
    "print( update_b)\n",
    "c=c+\"Hasaan\"\n",
    "print(c)\n",
    "\n",
    "\n",
    "\n",
    "\n"
   ]
  },
  {
   "cell_type": "code",
   "execution_count": 19,
   "metadata": {
    "id": "9lHNLlcIinP6"
   },
   "outputs": [
    {
     "name": "stdout",
     "output_type": "stream",
     "text": [
      "2\n",
      "2 * 1 = 2\n",
      "2 * 2 = 4\n",
      "2 * 3 = 6\n",
      "2 * 4 = 8\n",
      "2 * 5 = 10\n",
      "2 * 6 = 12\n",
      "2 * 7 = 14\n",
      "2 * 8 = 16\n",
      "2 * 9 = 18\n",
      "2 * 10 = 20\n",
      "2 * 11 = 22\n",
      "2 * 12 = 24\n",
      "2 * 13 = 26\n",
      "2 * 14 = 28\n",
      "2 * 15 = 30\n",
      "2 * 16 = 32\n",
      "2 * 17 = 34\n",
      "2 * 18 = 36\n",
      "2 * 19 = 38\n",
      "2 * 20 = 40\n"
     ]
    }
   ],
   "source": [
    "# Question 2: Define a function that accepts a value and prints out the multipication table from 1 to 20.\n",
    "# Write your code in this cell.\n",
    "\n",
    "def multipication_table(n):\n",
    "    for i in range(1,21):\n",
    "        print(n,\"*\",i,\"=\",n*i)\n",
    "n = int(input())\n",
    "multipication_table(n)"
   ]
  },
  {
   "cell_type": "code",
   "execution_count": 43,
   "metadata": {
    "id": "ZDXUDhZAi1Wd"
   },
   "outputs": [
    {
     "name": "stdout",
     "output_type": "stream",
     "text": [
      "6\n"
     ]
    }
   ],
   "source": [
    "# Question 3: How many vowels are present in the new value of the third variable?\n",
    "# Write your code in this cell.\n",
    "def count_Vowels(value):\n",
    "    count = 0\n",
    "    for i in value: \n",
    "        if(i=='a' or i=='e' or i=='i'or i=='o' or i=='u' or i=='A' or i=='E' or i=='I' or i=='O' or i=='U'):\n",
    "            count = count+1\n",
    "            \n",
    "            \n",
    "    return count  \n",
    "    \n",
    "print(count_Vowels(c))\n"
   ]
  },
  {
   "cell_type": "code",
   "execution_count": 29,
   "metadata": {
    "id": "NYG6NaFLmhXH"
   },
   "outputs": [],
   "source": [
    "# Question 4: Start\n",
    "# Import the numpy library\n",
    "import numpy as np\n"
   ]
  },
  {
   "cell_type": "code",
   "execution_count": 30,
   "metadata": {
    "id": "oSHPAEP21bVC"
   },
   "outputs": [],
   "source": [
    "# Create a numpy array of size 10.\n",
    "a = np.array([1,2,3,4,5,6,7,8,9,10])\n"
   ]
  },
  {
   "cell_type": "code",
   "execution_count": 31,
   "metadata": {
    "id": "1MinSlqL1ddz"
   },
   "outputs": [
    {
     "name": "stdout",
     "output_type": "stream",
     "text": [
      "(10, 1)\n"
     ]
    }
   ],
   "source": [
    "# Resize the array to make it a column vector. So the shape will be (10, 1).\n",
    "# Print the shape of the array to verify your answer\n",
    "a = a.reshape(10,1)\n",
    "print(a.shape)\n",
    "\n"
   ]
  },
  {
   "cell_type": "code",
   "execution_count": 32,
   "metadata": {
    "id": "AT5sRZ5b1ff9"
   },
   "outputs": [],
   "source": [
    "# Create a numpy array of the above shape where all elements are 1\n",
    "# Add this array to the above column vector\n",
    "\n",
    "b = np.full((10,1),1)\n",
    "sum = a+b\n",
    "\n"
   ]
  },
  {
   "cell_type": "code",
   "execution_count": 33,
   "metadata": {
    "id": "0310rxvx1ha3"
   },
   "outputs": [
    {
     "name": "stdout",
     "output_type": "stream",
     "text": [
      "[2]\n",
      "[3]\n",
      "[4]\n",
      "[5]\n",
      "[6]\n"
     ]
    }
   ],
   "source": [
    "# Print out the first 5 rows of the new column vector after addition\n",
    "for i in range (0,5):\n",
    "    print(sum[i,])\n"
   ]
  },
  {
   "cell_type": "code",
   "execution_count": 34,
   "metadata": {
    "id": "4ETfZUga1jhk"
   },
   "outputs": [],
   "source": [
    "# Create a new array of the same shape which have random values\n",
    "\n",
    "d = np.random.randint(-10,100, size=(10,1))\n"
   ]
  },
  {
   "cell_type": "code",
   "execution_count": 45,
   "metadata": {
    "id": "cW_PV85q1l5m"
   },
   "outputs": [
    {
     "name": "stdout",
     "output_type": "stream",
     "text": [
      "[[ 1  2  3  4  5]\n",
      " [10 20 30 40 50]]\n",
      "[[ 1  2  3  4  5 -5 -5 99]\n",
      " [10 20 30 40 50 -5 -5 99]]\n"
     ]
    }
   ],
   "source": [
    "# Now perform hstack() and vstack() and print out the shape and write in\n",
    "# one line what difference you observe\n",
    "\n",
    "v1 = np.array([1,2,3,4,5])\n",
    "v2 = np.array([10,20,30,40,50])\n",
    "v3 =np.vstack([v1,v2]) #vstack()\n",
    "print(v3)\n",
    "\n",
    "\n",
    "\n",
    "h1 = np.full((2,2),-5)\n",
    "h2 = np.full((2,1),99)\n",
    "h3 = np.hstack((v3,h1,h2))  #hstack()\n",
    "print(h3)\n",
    "\n",
    "\n",
    "# vstack() is like adding rows to a matrix, whereas hstack() is like adding coloums to a matrix."
   ]
  },
  {
   "cell_type": "code",
   "execution_count": 37,
   "metadata": {
    "id": "uZhTfSAVEcNo"
   },
   "outputs": [
    {
     "name": "stdout",
     "output_type": "stream",
     "text": [
      "[ 100  400  900 1600 2500 3600 4900]\n"
     ]
    }
   ],
   "source": [
    "# Make a list conatining 7 numbers (of your choice)\n",
    "# Convert this into numpy array\n",
    "# Explore how to do element wise squaring using (**) operator\n",
    "# Print out the result\n",
    "\n",
    "l = [10,20,30,40,50,60,70]\n",
    "m = np.array(l) \n",
    "print(m**2)"
   ]
  },
  {
   "cell_type": "code",
   "execution_count": 93,
   "metadata": {
    "id": "Ak__1auv1noj"
   },
   "outputs": [],
   "source": [
    "# Question 4: End\n",
    "# Explore broadcasting from the internet and explain what you understood with the help of an example.\n",
    "\n",
    "\n",
    "\n"
   ]
  },
  {
   "cell_type": "markdown",
   "metadata": {
    "id": "QiOvo5JkMl1L"
   },
   "source": [
    "**Dataset Link:** https://www.kaggle.com/datasets/himanshunakrani/iris-dataset"
   ]
  },
  {
   "cell_type": "markdown",
   "metadata": {
    "id": "uJNhA_dcINuG"
   },
   "source": [
    "**If you are using Google Colab:<br>\n",
    "Step 1: Upload the dataset on your drive<br>\n",
    "Step 2: In the left most part of you screen there are 5 options at the top and 3 options at the bottm.<br>\n",
    "Step 3: Click on Files option (last option in the top below the key symbol)<br>\n",
    "Step 4: Click on mount drive and wait.<br>\n",
    "Step 5: Now you can see a folder named drive.<br>\n",
    "Step 6: Click on it. Click on MyDrive. Now you can see all your files here.<br>\n",
    "Step 7: Use Ctrl+F to search the name of the dataset.<br>\n",
    "Step 8: Right click on it and click on copy path**\n",
    "\n",
    "\n",
    "\n",
    "\n"
   ]
  },
  {
   "cell_type": "markdown",
   "metadata": {
    "id": "h6HaxTkDLekA"
   },
   "source": [
    "**If you are using Jupyter Notebook:<br>\n",
    "Step 1: Create a new folder.<br>\n",
    "Step 2: Add the dataset in this folder<br>\n",
    "Step 3: Copy this notebook to the same folder.<br>\n",
    "Step 4: Now you can easily copy the path**"
   ]
  },
  {
   "cell_type": "code",
   "execution_count": 116,
   "metadata": {
    "id": "hGiUFU6q2Oye"
   },
   "outputs": [],
   "source": [
    "# Question 5: Start\n",
    "# import pandas library\n",
    "import pandas as pd\n"
   ]
  },
  {
   "cell_type": "code",
   "execution_count": 133,
   "metadata": {
    "id": "zI4vNQTBIMdu"
   },
   "outputs": [],
   "source": [
    "# Copy your path and store in the below variable.\n",
    "# Note that the path will be a string\n",
    "\n",
    "# Uncomment the below line\n",
    "\n",
    "path = pd.read_csv('iris.csv')\n",
    "\n",
    "\n",
    "# Load the dataframe\n"
   ]
  },
  {
   "cell_type": "code",
   "execution_count": 118,
   "metadata": {
    "id": "LVCrfnfnNNNm"
   },
   "outputs": [
    {
     "name": "stdout",
     "output_type": "stream",
     "text": [
      "   sepal_length  sepal_width  petal_length  petal_width species\n",
      "0           5.1          3.5           1.4          0.2  setosa\n",
      "1           4.9          3.0           1.4          0.2  setosa\n",
      "2           4.7          3.2           1.3          0.2  setosa\n",
      "3           4.6          3.1           1.5          0.2  setosa\n",
      "4           5.0          3.6           1.4          0.2  setosa\n",
      "5           5.4          3.9           1.7          0.4  setosa\n",
      "6           4.6          3.4           1.4          0.3  setosa\n"
     ]
    }
   ],
   "source": [
    "# Print out the first 7 rows using head()\n",
    "print(path.head(7))"
   ]
  },
  {
   "cell_type": "code",
   "execution_count": 99,
   "metadata": {
    "id": "XmY-Ku6rNZQv"
   },
   "outputs": [
    {
     "name": "stdout",
     "output_type": "stream",
     "text": [
      "     sepal_length  sepal_width  petal_length  petal_width    species\n",
      "140           6.7          3.1           5.6          2.4  virginica\n",
      "141           6.9          3.1           5.1          2.3  virginica\n",
      "142           5.8          2.7           5.1          1.9  virginica\n",
      "143           6.8          3.2           5.9          2.3  virginica\n",
      "144           6.7          3.3           5.7          2.5  virginica\n",
      "145           6.7          3.0           5.2          2.3  virginica\n",
      "146           6.3          2.5           5.0          1.9  virginica\n",
      "147           6.5          3.0           5.2          2.0  virginica\n",
      "148           6.2          3.4           5.4          2.3  virginica\n",
      "149           5.9          3.0           5.1          1.8  virginica\n"
     ]
    }
   ],
   "source": [
    "# Print out the last 10 rows\n",
    "print(path.tail(10))"
   ]
  },
  {
   "cell_type": "code",
   "execution_count": 100,
   "metadata": {
    "id": "LvK9ML7YON_s"
   },
   "outputs": [
    {
     "name": "stdout",
     "output_type": "stream",
     "text": [
      "(150, 5)\n"
     ]
    }
   ],
   "source": [
    "# How many rows and columns are there in this dataset\n",
    "print(path.shape)"
   ]
  },
  {
   "cell_type": "code",
   "execution_count": 101,
   "metadata": {
    "id": "SJQWkiNDP8FY"
   },
   "outputs": [
    {
     "name": "stdout",
     "output_type": "stream",
     "text": [
      "<class 'pandas.core.frame.DataFrame'>\n",
      "RangeIndex: 150 entries, 0 to 149\n",
      "Data columns (total 5 columns):\n",
      " #   Column        Non-Null Count  Dtype  \n",
      "---  ------        --------------  -----  \n",
      " 0   sepal_length  150 non-null    float64\n",
      " 1   sepal_width   150 non-null    float64\n",
      " 2   petal_length  150 non-null    float64\n",
      " 3   petal_width   150 non-null    float64\n",
      " 4   species       150 non-null    object \n",
      "dtypes: float64(4), object(1)\n",
      "memory usage: 6.0+ KB\n",
      "None\n"
     ]
    }
   ],
   "source": [
    "# Print the info of this dataset\n",
    "print(path.info())"
   ]
  },
  {
   "cell_type": "code",
   "execution_count": 167,
   "metadata": {
    "id": "GPCqLqNNSACB"
   },
   "outputs": [
    {
     "data": {
      "text/html": [
       "<div>\n",
       "<style scoped>\n",
       "    .dataframe tbody tr th:only-of-type {\n",
       "        vertical-align: middle;\n",
       "    }\n",
       "\n",
       "    .dataframe tbody tr th {\n",
       "        vertical-align: top;\n",
       "    }\n",
       "\n",
       "    .dataframe thead th {\n",
       "        text-align: right;\n",
       "    }\n",
       "</style>\n",
       "<table border=\"1\" class=\"dataframe\">\n",
       "  <thead>\n",
       "    <tr style=\"text-align: right;\">\n",
       "      <th></th>\n",
       "      <th>sepal_length</th>\n",
       "      <th>sepal_width</th>\n",
       "      <th>petal_length</th>\n",
       "      <th>petal_width</th>\n",
       "      <th>species</th>\n",
       "    </tr>\n",
       "  </thead>\n",
       "  <tbody>\n",
       "    <tr>\n",
       "      <th>0</th>\n",
       "      <td>False</td>\n",
       "      <td>False</td>\n",
       "      <td>False</td>\n",
       "      <td>False</td>\n",
       "      <td>False</td>\n",
       "    </tr>\n",
       "    <tr>\n",
       "      <th>1</th>\n",
       "      <td>False</td>\n",
       "      <td>False</td>\n",
       "      <td>False</td>\n",
       "      <td>False</td>\n",
       "      <td>False</td>\n",
       "    </tr>\n",
       "    <tr>\n",
       "      <th>2</th>\n",
       "      <td>False</td>\n",
       "      <td>False</td>\n",
       "      <td>False</td>\n",
       "      <td>False</td>\n",
       "      <td>False</td>\n",
       "    </tr>\n",
       "    <tr>\n",
       "      <th>3</th>\n",
       "      <td>False</td>\n",
       "      <td>False</td>\n",
       "      <td>False</td>\n",
       "      <td>False</td>\n",
       "      <td>False</td>\n",
       "    </tr>\n",
       "    <tr>\n",
       "      <th>4</th>\n",
       "      <td>False</td>\n",
       "      <td>False</td>\n",
       "      <td>False</td>\n",
       "      <td>False</td>\n",
       "      <td>False</td>\n",
       "    </tr>\n",
       "    <tr>\n",
       "      <th>...</th>\n",
       "      <td>...</td>\n",
       "      <td>...</td>\n",
       "      <td>...</td>\n",
       "      <td>...</td>\n",
       "      <td>...</td>\n",
       "    </tr>\n",
       "    <tr>\n",
       "      <th>145</th>\n",
       "      <td>False</td>\n",
       "      <td>False</td>\n",
       "      <td>False</td>\n",
       "      <td>False</td>\n",
       "      <td>False</td>\n",
       "    </tr>\n",
       "    <tr>\n",
       "      <th>146</th>\n",
       "      <td>False</td>\n",
       "      <td>False</td>\n",
       "      <td>False</td>\n",
       "      <td>False</td>\n",
       "      <td>False</td>\n",
       "    </tr>\n",
       "    <tr>\n",
       "      <th>147</th>\n",
       "      <td>False</td>\n",
       "      <td>False</td>\n",
       "      <td>False</td>\n",
       "      <td>False</td>\n",
       "      <td>False</td>\n",
       "    </tr>\n",
       "    <tr>\n",
       "      <th>148</th>\n",
       "      <td>False</td>\n",
       "      <td>False</td>\n",
       "      <td>False</td>\n",
       "      <td>False</td>\n",
       "      <td>False</td>\n",
       "    </tr>\n",
       "    <tr>\n",
       "      <th>149</th>\n",
       "      <td>False</td>\n",
       "      <td>False</td>\n",
       "      <td>False</td>\n",
       "      <td>False</td>\n",
       "      <td>False</td>\n",
       "    </tr>\n",
       "  </tbody>\n",
       "</table>\n",
       "<p>150 rows × 5 columns</p>\n",
       "</div>"
      ],
      "text/plain": [
       "     sepal_length  sepal_width  petal_length  petal_width  species\n",
       "0           False        False         False        False    False\n",
       "1           False        False         False        False    False\n",
       "2           False        False         False        False    False\n",
       "3           False        False         False        False    False\n",
       "4           False        False         False        False    False\n",
       "..            ...          ...           ...          ...      ...\n",
       "145         False        False         False        False    False\n",
       "146         False        False         False        False    False\n",
       "147         False        False         False        False    False\n",
       "148         False        False         False        False    False\n",
       "149         False        False         False        False    False\n",
       "\n",
       "[150 rows x 5 columns]"
      ]
     },
     "execution_count": 167,
     "metadata": {},
     "output_type": "execute_result"
    }
   ],
   "source": [
    "# Check if the dataset has null values\n",
    "path.isnull()\n",
    "   "
   ]
  },
  {
   "cell_type": "code",
   "execution_count": 103,
   "metadata": {
    "id": "QlmsdjQDQCXv"
   },
   "outputs": [
    {
     "name": "stdout",
     "output_type": "stream",
     "text": [
      "The standard deviation of petals_width = 0.7631607417008414\n"
     ]
    }
   ],
   "source": [
    "# From the describe method what is std (standard deviation) of petal_width\n",
    "print(\"The standard deviation of petals_width =\",path['petal_width'].describe()['std'])"
   ]
  },
  {
   "cell_type": "code",
   "execution_count": 104,
   "metadata": {
    "id": "zS5be-zkQYIs"
   },
   "outputs": [
    {
     "name": "stdout",
     "output_type": "stream",
     "text": [
      "sepal_length\n",
      "sepal_width\n",
      "petal_length\n",
      "petal_width\n",
      "species\n"
     ]
    }
   ],
   "source": [
    "# Print out all the names of the column using a predifined method\n",
    "for i in path.columns:\n",
    "    print(i)"
   ]
  },
  {
   "cell_type": "code",
   "execution_count": 105,
   "metadata": {
    "id": "xpZRSnHTQrTB"
   },
   "outputs": [
    {
     "name": "stdout",
     "output_type": "stream",
     "text": [
      "There are 3 types of values in species column.\n"
     ]
    }
   ],
   "source": [
    "# How many types of values are there in species column\n",
    "print(\"There are\",path['species'].describe()['unique'],\"types of values in species column.\")"
   ]
  },
  {
   "cell_type": "code",
   "execution_count": 106,
   "metadata": {
    "id": "ICI6D0GFQdgL"
   },
   "outputs": [
    {
     "name": "stdout",
     "output_type": "stream",
     "text": [
      "(50, 5)\n"
     ]
    }
   ],
   "source": [
    "# Select all rows whose species column value is setosa\n",
    "# Print out the shape of this dataframe\n",
    "p1 = path[path['species']== \"setosa\"]\n",
    "print(p1.shape)"
   ]
  },
  {
   "cell_type": "code",
   "execution_count": 107,
   "metadata": {
    "id": "wvevwDbbQy6J"
   },
   "outputs": [
    {
     "name": "stdout",
     "output_type": "stream",
     "text": [
      "(50, 5)\n"
     ]
    }
   ],
   "source": [
    "# Select all rows whose species column value is virginica\n",
    "# Print out the shape of this dataframe\n",
    "p2 = path[path['species']== \"virginica\"]\n",
    "print(p2.shape)\n"
   ]
  },
  {
   "cell_type": "code",
   "execution_count": 149,
   "metadata": {
    "id": "fb2o9LD1Q4bx"
   },
   "outputs": [
    {
     "name": "stdout",
     "output_type": "stream",
     "text": [
      "(100, 5)\n"
     ]
    }
   ],
   "source": [
    "# Make a new dataframe called \"df_new\" by concatenating the above dataframes\n",
    "# Print out the shape of this dataframe\n",
    "\n",
    "df_new = pd.concat([p1,p2])\n",
    "print(df_new.shape)"
   ]
  },
  {
   "cell_type": "code",
   "execution_count": 128,
   "metadata": {
    "id": "RI1ChgwdRj0P"
   },
   "outputs": [
    {
     "name": "stdout",
     "output_type": "stream",
     "text": [
      "5.797\n"
     ]
    }
   ],
   "source": [
    "# Print the average sepal_length of these two species\n",
    "print(df_new['sepal_length'].describe()['mean'])\n"
   ]
  },
  {
   "cell_type": "code",
   "execution_count": 150,
   "metadata": {
    "id": "B_bfdYfgR7WE"
   },
   "outputs": [
    {
     "name": "stdout",
     "output_type": "stream",
     "text": [
      "Minimum Area=  10.35\n",
      "Maximum Area=  30.02\n"
     ]
    }
   ],
   "source": [
    "# Create a new column called \"sepal_area\" which is computed by taking the product of sepal_length and sepal_width\n",
    "# Print the min and max area\n",
    "\n",
    "df_new.insert(4,\"sepal_area\",path.sepal_length*path.sepal_width) \n",
    "print(\"Minimum Area= \",df_new['sepal_area'].describe()['min'])\n",
    "print(\"Maximum Area= \",df_new['sepal_area'].describe()['max'])"
   ]
  },
  {
   "cell_type": "code",
   "execution_count": 151,
   "metadata": {
    "id": "fnYZwhJOSQ4Q"
   },
   "outputs": [
    {
     "name": "stdout",
     "output_type": "stream",
     "text": [
      "sepal_length\n",
      "sepal_width\n",
      "petal_length\n",
      "petal_width\n",
      "sepal_area\n",
      "species\n"
     ]
    }
   ],
   "source": [
    "# Print out all the names of the columns using predefined method\n",
    "for i in df_new.columns:\n",
    "    print(i)"
   ]
  },
  {
   "cell_type": "code",
   "execution_count": 152,
   "metadata": {
    "id": "NbEhQJzHScsN"
   },
   "outputs": [
    {
     "name": "stdout",
     "output_type": "stream",
     "text": [
      "['sepal_length', 'sepal_width', 'petal_width', 'sepal_area', 'species']\n"
     ]
    }
   ],
   "source": [
    "# From the above output copy all the names except petal_length and store it in a list\n",
    "l=[]\n",
    "for i in df_new.columns:\n",
    "    if i!=\"petal_length\":\n",
    "        l.append(i)\n",
    "print(l)"
   ]
  },
  {
   "cell_type": "code",
   "execution_count": 153,
   "metadata": {
    "id": "A5AduuCSSs3G"
   },
   "outputs": [
    {
     "name": "stdout",
     "output_type": "stream",
     "text": [
      "(100, 5)\n"
     ]
    }
   ],
   "source": [
    "# From the above list create a new dataframe \"df_new2\" from df_new which have only the columns mentioned in the list\n",
    "# Print out the shape\n",
    "df_new2 = df_new[l]\n",
    "print(df_new2.shape)\n"
   ]
  },
  {
   "cell_type": "code",
   "execution_count": 164,
   "metadata": {
    "id": "afJyup97TNGP"
   },
   "outputs": [
    {
     "name": "stdout",
     "output_type": "stream",
     "text": [
      "     sepal_length  sepal_width  petal_width  sepal_area  species\n",
      "0             5.1          3.5          0.2       17.85        1\n",
      "1             4.9          3.0          0.2       14.70        1\n",
      "2             4.7          3.2          0.2       15.04        1\n",
      "3             4.6          3.1          0.2       14.26        1\n",
      "4             5.0          3.6          0.2       18.00        1\n",
      "..            ...          ...          ...         ...      ...\n",
      "145           6.7          3.0          2.3       20.10        0\n",
      "146           6.3          2.5          1.9       15.75        0\n",
      "147           6.5          3.0          2.0       19.50        0\n",
      "148           6.2          3.4          2.3       21.08        0\n",
      "149           5.9          3.0          1.8       17.70        0\n",
      "\n",
      "[100 rows x 5 columns]\n"
     ]
    }
   ],
   "source": [
    "# Swap setosa with 1\n",
    "# Swap virginica with 0\n",
    "# Do this using replace()\n",
    "df_new2=df_new2.replace(\"setosa\",1)\n",
    "df_new2=df_new2.replace(\"virginica\",0)\n",
    "print(df_new2)"
   ]
  },
  {
   "cell_type": "markdown",
   "metadata": {
    "id": "0e_hs7ujViAg"
   },
   "source": [
    "**Assignment END<br>\n",
    "Please submit this on teams before the deadline**"
   ]
  }
 ],
 "metadata": {
  "colab": {
   "provenance": []
  },
  "kernelspec": {
   "display_name": "Python 3 (ipykernel)",
   "language": "python",
   "name": "python3"
  },
  "language_info": {
   "codemirror_mode": {
    "name": "ipython",
    "version": 3
   },
   "file_extension": ".py",
   "mimetype": "text/x-python",
   "name": "python",
   "nbconvert_exporter": "python",
   "pygments_lexer": "ipython3",
   "version": "3.11.5"
  }
 },
 "nbformat": 4,
 "nbformat_minor": 1
}
