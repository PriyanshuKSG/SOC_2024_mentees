{
  "cells": [
    {
      "cell_type": "markdown",
      "metadata": {
        "id": "eFK9pJ4ZFNWA"
      },
      "source": [
        "**You can use Google but don't use ChatGPT and Gemini. You are here to learn. Follow the instructions given below and write the code in that cell only.**\n"
      ]
    },
    {
      "cell_type": "code",
      "execution_count": 3,
      "metadata": {
        "id": "ID1GIlQxfnl3"
      },
      "outputs": [
        {
          "name": "stdout",
          "output_type": "stream",
          "text": [
            "<class 'int'>\n",
            "<class 'float'>\n",
            "<class 'str'>\n",
            "Square of first after following some instructions :  277.7777777777778\n",
            "Square of second after following some instructions :  162.5625\n",
            "Name is :  Tarachand\n"
          ]
        }
      ],
      "source": [
        "# Question 1: Create three variables one containing an integer value,\n",
        "# one containing floating point value and the last one contains string value.\n",
        "# Accept the value of all three variables from the user.\n",
        "# Print out the data types of the variables using a predifined function.\n",
        "# What is the square of the first and second variables? Add 97 to them. Subtract 3 from them and then divide them by the original value before squaring.\n",
        "# Append your name to the third variable and display the value.\n",
        "# Write your code in this cell.\n",
        "\n",
        "\n",
        "\n",
        "num1 =  int(input(\"print first number : \"))\n",
        "num2 = float(input(\"print the second nnumber : \"))\n",
        "name = \"\"\n",
        "\n",
        "print(type(num1))\n",
        "print(type(num2))\n",
        "print(type(name))\n",
        "\n",
        "print(\"Square of first after following some instructions : \" , ((num1 + 97 -3 )/num1)**2)\n",
        "print(\"Square of second after following some instructions : \" , ((num2 + 97 -3 )/num2)**2)\n",
        "\n",
        "name = input(\"write your name : \")\n",
        "print(\"Name is : \" , name)\n",
        "\n"
      ]
    },
    {
      "cell_type": "code",
      "execution_count": 5,
      "metadata": {
        "id": "9lHNLlcIinP6"
      },
      "outputs": [
        {
          "name": "stdout",
          "output_type": "stream",
          "text": [
            "27\n",
            "54\n",
            "81\n",
            "108\n",
            "135\n",
            "162\n",
            "189\n",
            "216\n",
            "243\n",
            "270\n",
            "297\n",
            "324\n",
            "351\n",
            "378\n",
            "405\n",
            "432\n",
            "459\n",
            "486\n",
            "513\n",
            "540\n"
          ]
        }
      ],
      "source": [
        "# Question 2: Define a function that accepts a value and prints out the multipication table from 1 to 20.\n",
        "# Write your code in this cell.\n",
        "\n",
        "def table(n=21):\n",
        "    i=1\n",
        "    while(i<=20):\n",
        "        print(i*n)\n",
        "        i= i+1\n",
        "\n",
        "n=int(input(\"Write the number whose table you want to print : \"))\n",
        "table(n)\n"
      ]
    },
    {
      "cell_type": "code",
      "execution_count": 8,
      "metadata": {
        "id": "ZDXUDhZAi1Wd"
      },
      "outputs": [
        {
          "name": "stdout",
          "output_type": "stream",
          "text": [
            "number of vowels in name is  5\n"
          ]
        }
      ],
      "source": [
        "# Question 3: How many vowels are present in the new value of the third variable?\n",
        "# Write your code in this cell.\n",
        "\n",
        "\n",
        "name = input(\" Type your name here : \")\n",
        "\n",
        "count = 0 \n",
        "idx = 0\n",
        "while(idx <len(name)):\n",
        "    if(name[idx] == \"a\" or name[idx] == \"i\" or name[idx] == \"e\" or name[idx] == \"o\" or name[idx] == \"u\" or name[idx] == \"A\" or name[idx] == \"E\" or name[idx] == \"I\" or name[idx] == \"O\" or name[idx] == \"U\" ):\n",
        "        count+=1\n",
        "    idx +=1\n",
        "\n",
        "print(\"number of vowels in name is \", count)\n"
      ]
    },
    {
      "cell_type": "code",
      "execution_count": 85,
      "metadata": {
        "id": "NYG6NaFLmhXH"
      },
      "outputs": [],
      "source": [
        "# Question 4: Start\n",
        "# Import the numpy library\n",
        "\n"
      ]
    },
    {
      "cell_type": "code",
      "execution_count": 86,
      "metadata": {
        "id": "oSHPAEP21bVC"
      },
      "outputs": [],
      "source": [
        "# Create a numpy array of size 10.\n",
        "\n"
      ]
    },
    {
      "cell_type": "code",
      "execution_count": 87,
      "metadata": {
        "id": "1MinSlqL1ddz"
      },
      "outputs": [],
      "source": [
        "# Resize the array to make it a column vector. So the shape will be (10, 1).\n",
        "# Print the shape of the array to verify your answer\n",
        "\n",
        "\n"
      ]
    },
    {
      "cell_type": "code",
      "execution_count": 88,
      "metadata": {
        "id": "AT5sRZ5b1ff9"
      },
      "outputs": [],
      "source": [
        "# Create a numpy array of the above shape where all elements are 1\n",
        "# Add this array to the above column vector\n",
        "\n",
        "\n"
      ]
    },
    {
      "cell_type": "code",
      "execution_count": 89,
      "metadata": {
        "id": "0310rxvx1ha3"
      },
      "outputs": [],
      "source": [
        "# Print out the first 5 rows of the new column vector after addition\n",
        "\n"
      ]
    },
    {
      "cell_type": "code",
      "execution_count": 90,
      "metadata": {
        "id": "4ETfZUga1jhk"
      },
      "outputs": [],
      "source": [
        "# Create a new array of the same shape which have random values\n",
        "\n"
      ]
    },
    {
      "cell_type": "code",
      "execution_count": 91,
      "metadata": {
        "id": "cW_PV85q1l5m"
      },
      "outputs": [],
      "source": [
        "# Now perform hstack() and vstack() and print out the shape and write in\n",
        "# one line what difference you observe\n",
        "\n",
        "\n",
        "\n",
        "\n"
      ]
    },
    {
      "cell_type": "code",
      "execution_count": 92,
      "metadata": {
        "id": "uZhTfSAVEcNo"
      },
      "outputs": [],
      "source": [
        "# Make a list conatining 7 numbers (of your choice)\n",
        "# Convert this into numpy array\n",
        "# Explore how to do element wise squaring using (**) operator\n",
        "# Print out the result\n",
        "\n",
        "\n"
      ]
    },
    {
      "cell_type": "code",
      "execution_count": 93,
      "metadata": {
        "id": "Ak__1auv1noj"
      },
      "outputs": [],
      "source": [
        "# Question 4: End\n",
        "# Explore broadcasting from the internet and explain what you understood with the help of an example.\n",
        "\n",
        "\n",
        "\n"
      ]
    },
    {
      "cell_type": "markdown",
      "metadata": {
        "id": "QiOvo5JkMl1L"
      },
      "source": [
        "**Dataset Link:** https://www.kaggle.com/datasets/himanshunakrani/iris-dataset"
      ]
    },
    {
      "cell_type": "markdown",
      "metadata": {
        "id": "uJNhA_dcINuG"
      },
      "source": [
        "**If you are using Google Colab:<br>\n",
        "Step 1: Upload the dataset on your drive<br>\n",
        "Step 2: In the left most part of you screen there are 5 options at the top and 3 options at the bottm.<br>\n",
        "Step 3: Click on Files option (last option in the top below the key symbol)<br>\n",
        "Step 4: Click on mount drive and wait.<br>\n",
        "Step 5: Now you can see a folder named drive.<br>\n",
        "Step 6: Click on it. Click on MyDrive. Now you can see all your files here.<br>\n",
        "Step 7: Use Ctrl+F to search the name of the dataset.<br>\n",
        "Step 8: Right click on it and click on copy path**\n",
        "\n",
        "\n",
        "\n",
        "\n"
      ]
    },
    {
      "cell_type": "markdown",
      "metadata": {
        "id": "h6HaxTkDLekA"
      },
      "source": [
        "**If you are using Jupyter Notebook:<br>\n",
        "Step 1: Create a new folder.<br>\n",
        "Step 2: Add the dataset in this folder<br>\n",
        "Step 3: Copy this notebook to the same folder.<br>\n",
        "Step 4: Now you can easily copy the path**"
      ]
    },
    {
      "cell_type": "code",
      "execution_count": 9,
      "metadata": {
        "id": "hGiUFU6q2Oye"
      },
      "outputs": [
        {
          "ename": "ModuleNotFoundError",
          "evalue": "No module named 'pandas'",
          "output_type": "error",
          "traceback": [
            "\u001b[1;31m---------------------------------------------------------------------------\u001b[0m",
            "\u001b[1;31mModuleNotFoundError\u001b[0m                       Traceback (most recent call last)",
            "Cell \u001b[1;32mIn[9], line 4\u001b[0m\n\u001b[0;32m      1\u001b[0m \u001b[38;5;66;03m# Question 5: Start\u001b[39;00m\n\u001b[0;32m      2\u001b[0m \u001b[38;5;66;03m# import pandas library\u001b[39;00m\n\u001b[1;32m----> 4\u001b[0m \u001b[38;5;28;01mimport\u001b[39;00m \u001b[38;5;21;01mpandas\u001b[39;00m \u001b[38;5;28;01mas\u001b[39;00m \u001b[38;5;21;01mpd\u001b[39;00m\n",
            "\u001b[1;31mModuleNotFoundError\u001b[0m: No module named 'pandas'"
          ]
        }
      ],
      "source": [
        "# Question 5: Start\n",
        "# import pandas library\n",
        "\n",
        "import pandas as pd\n"
      ]
    },
    {
      "cell_type": "code",
      "execution_count": 95,
      "metadata": {
        "id": "zI4vNQTBIMdu"
      },
      "outputs": [],
      "source": [
        "# Copy your path and store in the below variable.\n",
        "# Note that the path will be a string\n",
        "\n",
        "# Uncomment the below line\n",
        "\"\"\"\n",
        "path = your path of the dataset\n",
        "\"\"\"\n",
        "\n",
        "# Load the dataframe\n"
      ]
    },
    {
      "cell_type": "code",
      "execution_count": 96,
      "metadata": {
        "id": "LVCrfnfnNNNm"
      },
      "outputs": [],
      "source": [
        "# Print out the first 7 rows using head()\n"
      ]
    },
    {
      "cell_type": "code",
      "execution_count": 97,
      "metadata": {
        "id": "XmY-Ku6rNZQv"
      },
      "outputs": [],
      "source": [
        "# Print out the last 10 rows\n"
      ]
    },
    {
      "cell_type": "code",
      "execution_count": 98,
      "metadata": {
        "id": "LvK9ML7YON_s"
      },
      "outputs": [],
      "source": [
        "# How many rows and columns are there in this dataset\n"
      ]
    },
    {
      "cell_type": "code",
      "execution_count": 99,
      "metadata": {
        "id": "SJQWkiNDP8FY"
      },
      "outputs": [],
      "source": [
        "# Print the info of this dataset\n"
      ]
    },
    {
      "cell_type": "code",
      "execution_count": 100,
      "metadata": {
        "id": "GPCqLqNNSACB"
      },
      "outputs": [],
      "source": [
        "# Check if the dataset has null values\n"
      ]
    },
    {
      "cell_type": "code",
      "execution_count": 101,
      "metadata": {
        "id": "QlmsdjQDQCXv"
      },
      "outputs": [],
      "source": [
        "# From the describe method what is std (standard deviation) of petal_width\n"
      ]
    },
    {
      "cell_type": "code",
      "execution_count": 102,
      "metadata": {
        "id": "zS5be-zkQYIs"
      },
      "outputs": [],
      "source": [
        "# Print out all the names of the column using a predifined method\n"
      ]
    },
    {
      "cell_type": "code",
      "execution_count": 103,
      "metadata": {
        "id": "xpZRSnHTQrTB"
      },
      "outputs": [],
      "source": [
        "# How many types of values are there in species column\n"
      ]
    },
    {
      "cell_type": "code",
      "execution_count": 104,
      "metadata": {
        "id": "ICI6D0GFQdgL"
      },
      "outputs": [],
      "source": [
        "# Select all rows whose species column value is setosa\n",
        "# Print out the shape of this dataframe\n"
      ]
    },
    {
      "cell_type": "code",
      "execution_count": 105,
      "metadata": {
        "id": "wvevwDbbQy6J"
      },
      "outputs": [],
      "source": [
        "# Select all rows whose species column value is virginica\n",
        "# Print out the shape of this dataframe\n"
      ]
    },
    {
      "cell_type": "code",
      "execution_count": 106,
      "metadata": {
        "id": "fb2o9LD1Q4bx"
      },
      "outputs": [],
      "source": [
        "# Make a new dataframe called \"df_new\" by concatenating the above dataframes\n",
        "# Print out the shape of this dataframe\n",
        "\n"
      ]
    },
    {
      "cell_type": "code",
      "execution_count": 107,
      "metadata": {
        "id": "RI1ChgwdRj0P"
      },
      "outputs": [],
      "source": [
        "# Print the average sepal_length of these two species\n"
      ]
    },
    {
      "cell_type": "code",
      "execution_count": 108,
      "metadata": {
        "id": "B_bfdYfgR7WE"
      },
      "outputs": [],
      "source": [
        "# Create a new column called \"sepal_area\" which is computed by taking the product of sepal_length and sepal_width\n",
        "# Print the min and max area\n",
        "\n"
      ]
    },
    {
      "cell_type": "code",
      "execution_count": 109,
      "metadata": {
        "id": "fnYZwhJOSQ4Q"
      },
      "outputs": [],
      "source": [
        "# Print out all the names of the columns using predefined method\n"
      ]
    },
    {
      "cell_type": "code",
      "execution_count": 110,
      "metadata": {
        "id": "NbEhQJzHScsN"
      },
      "outputs": [],
      "source": [
        "# From the above output copy all the names except petal_length and store it in a list\n"
      ]
    },
    {
      "cell_type": "code",
      "execution_count": 111,
      "metadata": {
        "id": "A5AduuCSSs3G"
      },
      "outputs": [],
      "source": [
        "# From the above list create a new dataframe \"df_new2\" from df_new which have only the columns mentioned in the list\n",
        "# Print out the shape\n",
        "\n"
      ]
    },
    {
      "cell_type": "code",
      "execution_count": 112,
      "metadata": {
        "id": "afJyup97TNGP"
      },
      "outputs": [],
      "source": [
        "# Swap setosa with 1\n",
        "# Swap virginica with 0\n",
        "# Do this using replace()\n"
      ]
    },
    {
      "cell_type": "markdown",
      "metadata": {
        "id": "0e_hs7ujViAg"
      },
      "source": [
        "**Assignment END<br>\n",
        "Please submit this on teams before the deadline**"
      ]
    }
  ],
  "metadata": {
    "colab": {
      "provenance": []
    },
    "kernelspec": {
      "display_name": "Python 3",
      "name": "python3"
    },
    "language_info": {
      "codemirror_mode": {
        "name": "ipython",
        "version": 3
      },
      "file_extension": ".py",
      "mimetype": "text/x-python",
      "name": "python",
      "nbconvert_exporter": "python",
      "pygments_lexer": "ipython3",
      "version": "3.12.3"
    }
  },
  "nbformat": 4,
  "nbformat_minor": 0
}
