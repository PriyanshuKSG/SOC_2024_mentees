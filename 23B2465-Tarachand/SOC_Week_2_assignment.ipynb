{
  "nbformat": 4,
  "nbformat_minor": 0,
  "metadata": {
    "colab": {
      "provenance": []
    },
    "kernelspec": {
      "name": "python3",
      "display_name": "Python 3"
    },
    "language_info": {
      "name": "python"
    }
  },
  "cells": [
    {
      "cell_type": "markdown",
      "source": [
        "**You can use Google but don't use ChatGPT and Gemini. You are here to learn. Follow the instructions given below and write the code in that cell only.**\n"
      ],
      "metadata": {
        "id": "eFK9pJ4ZFNWA"
      }
    },
    {
      "cell_type": "markdown",
      "source": [
        "**Dataset Link:** https://www.kaggle.com/datasets/yasserh/wine-quality-dataset"
      ],
      "metadata": {
        "id": "WXt9cUxcY8zj"
      }
    },
    {
      "cell_type": "code",
      "source": [
        "# Load the dataset using pandas\n",
        "\n",
        "\n",
        "\n",
        "\n"
      ],
      "metadata": {
        "id": "e9aIUvqbcoSd"
      },
      "execution_count": 18,
      "outputs": []
    },
    {
      "cell_type": "code",
      "source": [
        "# Plot the pie chart showing how much each quality exist in this dataset\n",
        "# Your pie chart should have 6 parts with each part representing 1 quality number\n",
        "# Print out the quality which has the highest percent\n",
        "\n",
        "\n",
        "\n",
        "\n"
      ],
      "metadata": {
        "id": "y3QvAd5udCTz"
      },
      "execution_count": 19,
      "outputs": []
    },
    {
      "cell_type": "code",
      "source": [
        "# Plot a bar graph\n",
        "# X axis: Quality of wine\n",
        "# Y axis: Mean of total alcohol in that quality of wine\n",
        "# Suppose quality 5 has 9.4, 9.8, 9.2 as entries in alcohol column then the value will be (9.4 + 9.8 + 9.2)/3\n",
        "# Hint: use groupby() and mean() methods\n",
        "\n",
        "\n",
        "\n",
        "\n"
      ],
      "metadata": {
        "id": "jk-bxNH8dixg"
      },
      "execution_count": 22,
      "outputs": []
    },
    {
      "cell_type": "code",
      "source": [
        "# Partition df into X and Y\n",
        "# Y has only one column which is quality (target)\n",
        "# X has all the other columns (features)\n",
        "\n",
        "\n"
      ],
      "metadata": {
        "id": "UI8aNcKxgXUA"
      },
      "execution_count": 27,
      "outputs": []
    },
    {
      "cell_type": "code",
      "source": [
        "# Split into train and test datasets using test_size = 0.2 and random_state = 97\n",
        "\n",
        "\n"
      ],
      "metadata": {
        "id": "370u0fTuiV94"
      },
      "execution_count": 28,
      "outputs": []
    },
    {
      "cell_type": "code",
      "source": [
        "# Define a function which implements the Min-Max Scaler\n",
        "# Your function should take a column of X_train as input and returns a list/np array/pd series which is scaled version of that column\n",
        "\n",
        "\n",
        "\n",
        "\n"
      ],
      "metadata": {
        "id": "_Z6HS50beHOt"
      },
      "execution_count": 29,
      "outputs": []
    },
    {
      "cell_type": "code",
      "source": [
        "# Print out the min, max, mean value of the scaled column = 'volatile acidity'\n",
        "# Print out the min, max, mean value of the scaled column = 'free sulfur dioxide'\n",
        "# Which has higher min, max and mean value?\n",
        "\n",
        "\n",
        "\n",
        "\n"
      ],
      "metadata": {
        "id": "XQRqXG9MfamM"
      },
      "execution_count": 26,
      "outputs": []
    },
    {
      "cell_type": "code",
      "source": [
        "# Perform normalization using sklearn\n",
        "\n",
        "\n"
      ],
      "metadata": {
        "id": "8jb2z8PLfrjG"
      },
      "execution_count": 30,
      "outputs": []
    },
    {
      "cell_type": "markdown",
      "source": [
        "**Dataset Link:** https://drive.google.com/file/d/1M_djcbJS8LRZl2Vp5ulESjhzZHMJrNRE/view?usp=sharing"
      ],
      "metadata": {
        "id": "aVLJKQkonBFF"
      }
    },
    {
      "cell_type": "markdown",
      "source": [
        "Use this dataset for the below questions, the first column is the target column whereas all the other columns are features."
      ],
      "metadata": {
        "id": "8kqE6TsTnQkZ"
      }
    },
    {
      "cell_type": "code",
      "source": [
        "# Print out the correlation matrix of df\n",
        "\n",
        "\n",
        "\n",
        "\n"
      ],
      "metadata": {
        "id": "Mg3nQr47oKm8"
      },
      "execution_count": null,
      "outputs": []
    },
    {
      "cell_type": "code",
      "source": [
        "# Nothing to code in this cell, just read and understand\n",
        "\n",
        "# Thumb Rule: If the magnitude of correlation between two features is high (close to 1) then both features are highly related to each other\n",
        "# This means that one feature can be expressed in the form of other.\n",
        "# In simple words feature_2 = some_function(feature_1)\n",
        "# So it is advisable to drop one of the features and consider only one of them for training the machine learning model\n",
        "\n",
        "\n",
        "# Thumb Rule: If the magnitude of correlation between one feature and target is high (close to 1) then that features is highly related to the target\n",
        "# We should consider this feature for training the model\n",
        "\n",
        "\n",
        "# Thumb Rule: If two features are highly correlated with each other and each feature has a high correlation with the target as well\n",
        "# Then we consider only 1 feature even though both have higher correlation with the target\n",
        "# We generally consider the feature which has a higher correlation with the target"
      ],
      "metadata": {
        "id": "RWFP-shEk6Ll"
      },
      "execution_count": 32,
      "outputs": []
    },
    {
      "cell_type": "code",
      "source": [
        "# Can you name two columns which show the relation mentioned in rule 1\n",
        "# The column names are just numbers\n",
        "# Plot those two columns wrt each other. Do you see a relation? Use scatter plot\n",
        "# Write in two lines what you observe.\n",
        "\n",
        "\n",
        "\n",
        "\n"
      ],
      "metadata": {
        "id": "WbTJu4nyoWaL"
      },
      "execution_count": null,
      "outputs": []
    },
    {
      "cell_type": "code",
      "source": [
        "# Can you name two columns which show the relation mentioned in rule 2\n",
        "# Plot those two columns wrt each other. Do you see a relation? Use scatter plot\n",
        "# Write in two lines what you observe.\n",
        "\n",
        "\n",
        "\n",
        "\n"
      ],
      "metadata": {
        "id": "bhS32dZNoT6R"
      },
      "execution_count": null,
      "outputs": []
    },
    {
      "cell_type": "code",
      "source": [
        "# Can you name two columns which show the relation mentioned in rule 3\n",
        "# Plot those two columns wrt each other. Do you see a relation? Use scatter plot\n",
        "# Write in two lines what you observe.\n",
        "\n",
        "\n",
        "\n",
        "\n",
        "\n"
      ],
      "metadata": {
        "id": "R4KWCj2ll50l"
      },
      "execution_count": 34,
      "outputs": []
    },
    {
      "cell_type": "markdown",
      "source": [
        "**Assignment END<br>\n",
        "Please submit on teams before the deadline**"
      ],
      "metadata": {
        "id": "BIyxBM9Zof4m"
      }
    }
  ]
}