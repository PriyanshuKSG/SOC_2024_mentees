{
 "cells": [
  {
   "cell_type": "markdown",
   "metadata": {
    "id": "eFK9pJ4ZFNWA"
   },
   "source": [
    "**You can use Google but don't use ChatGPT and Gemini. You are here to learn. Follow the instructions given below and write the code in that cell only.**\n"
   ]
  },
  {
   "cell_type": "code",
   "execution_count": 2,
   "metadata": {
    "id": "ID1GIlQxfnl3"
   },
   "outputs": [
    {
     "name": "stdin",
     "output_type": "stream",
     "text": [
      "enter an integer:  17\n",
      "enter an floating-point:  21.7\n",
      "enter a string:  hsoaievha\n"
     ]
    },
    {
     "name": "stdout",
     "output_type": "stream",
     "text": [
      "type of x is  <class 'int'>\n",
      "type of y is  <class 'float'>\n",
      "type of z is  <class 'str'>\n",
      "42.63321799307958\n",
      "28.428061755399355\n",
      "hsoaievhaAbdul\n"
     ]
    }
   ],
   "source": [
    "# Question 1: Create three variables one containing an integer value,\n",
    "# one containing floating point value and the last one contains string value.\n",
    "# Accept the value of all three variables from the user.\n",
    "# Print out the data types of the variables using a predifined function.\n",
    "# What is the square of the first and second variables? Add 97 to them. Subtract 3 from them and then divide them by the original value before squaring.\n",
    "# Append your name to the third variable and display the value.\n",
    "# Write your code in this cell.\n",
    "\n",
    "x= int(input(\"enter an integer: \"))\n",
    "y= float(input(\"enter an floating-point: \"))\n",
    "z= input(\"enter a string: \")\n",
    "print(\"type of x is \",type(x)) \n",
    "print(\"type of y is \",type(y)) \n",
    "print(\"type of z is \",type(z)) \n",
    "x=(x+97-3)/x\n",
    "y=(y+97-3)/y\n",
    "a=x**2\n",
    "b=y**2\n",
    "z+= \" Abdul\"\n",
    "print(a)\n",
    "print(b)\n",
    "print(z)\n"
   ]
  },
  {
   "cell_type": "code",
   "execution_count": 5,
   "metadata": {
    "id": "9lHNLlcIinP6"
   },
   "outputs": [
    {
     "name": "stdin",
     "output_type": "stream",
     "text": [
      "Enter a value:  5.2\n"
     ]
    },
    {
     "name": "stdout",
     "output_type": "stream",
     "text": [
      "5.2\n",
      "10.4\n",
      "15.600000000000001\n",
      "20.8\n",
      "26.0\n",
      "31.200000000000003\n",
      "36.4\n",
      "41.6\n",
      "46.800000000000004\n",
      "52.0\n",
      "57.2\n",
      "62.400000000000006\n",
      "67.60000000000001\n",
      "72.8\n",
      "78.0\n",
      "83.2\n",
      "88.4\n",
      "93.60000000000001\n",
      "98.8\n",
      "104.0\n"
     ]
    }
   ],
   "source": [
    "# Question 2: Define a function that accepts a value and prints out the multipication table from 1 to 20.\n",
    "# Write your code in this cell.\n",
    "def table(num):\n",
    "    for i in range(1,21):\n",
    "        product= num*i\n",
    "        print(product)\n",
    "num= float(input(\"Enter a value: \"))\n",
    "table(num)\n"
   ]
  },
  {
   "cell_type": "code",
   "execution_count": 11,
   "metadata": {
    "id": "ZDXUDhZAi1Wd"
   },
   "outputs": [
    {
     "name": "stdout",
     "output_type": "stream",
     "text": [
      "7\n"
     ]
    }
   ],
   "source": [
    "# Question 3: How many vowels are present in the new value of the third variable?\n",
    "# Write your code in this cell.\n",
    "count=0\n",
    "for i in range(0,len(z)):\n",
    "    if z[i]==\"A\" or z[i]==\"a\" or z[i]==\"E\"or z[i]==\"e\"or z[i]==\"I\"or z[i]==\"i\"or z[i]==\"O\"or z[i]==\"o\"or z[i]==\"u\"or z[i]==\"U\":\n",
    "        count+=1\n",
    "print(count)"
   ]
  },
  {
   "cell_type": "code",
   "execution_count": 17,
   "metadata": {
    "id": "NYG6NaFLmhXH"
   },
   "outputs": [
    {
     "name": "stdout",
     "output_type": "stream",
     "text": [
      "Requirement already satisfied: numpy in c:\\users\\abdul\\anaconda3\\lib\\site-packages (1.26.4)\n"
     ]
    }
   ],
   "source": [
    "# Question 4: Start\n",
    "# Import the numpy library\n",
    "!pip install numpy\n",
    "import numpy as np"
   ]
  },
  {
   "cell_type": "code",
   "execution_count": 18,
   "metadata": {
    "id": "oSHPAEP21bVC"
   },
   "outputs": [
    {
     "name": "stdout",
     "output_type": "stream",
     "text": [
      "[ 1  2  3  4  5  6  7  8  9 10]\n"
     ]
    }
   ],
   "source": [
    "# Create a numpy array of size 10.\n",
    "arr=np.array([1,2,3,4,5,6,7,8,9,10])\n",
    "print(arr)"
   ]
  },
  {
   "cell_type": "code",
   "execution_count": 19,
   "metadata": {
    "id": "1MinSlqL1ddz"
   },
   "outputs": [
    {
     "name": "stdout",
     "output_type": "stream",
     "text": [
      "[[ 1]\n",
      " [ 2]\n",
      " [ 3]\n",
      " [ 4]\n",
      " [ 5]\n",
      " [ 6]\n",
      " [ 7]\n",
      " [ 8]\n",
      " [ 9]\n",
      " [10]]\n"
     ]
    }
   ],
   "source": [
    "# Resize the array to make it a column vector. So the shape will be (10, 1).\n",
    "# Print the shape of the array to verify your answer\n",
    "col_arr = arr.reshape((10, 1))\n",
    "print(col_arr)"
   ]
  },
  {
   "cell_type": "code",
   "execution_count": 27,
   "metadata": {
    "id": "AT5sRZ5b1ff9"
   },
   "outputs": [
    {
     "name": "stdout",
     "output_type": "stream",
     "text": [
      "[[ 2]\n",
      " [ 3]\n",
      " [ 4]\n",
      " [ 5]\n",
      " [ 6]\n",
      " [ 7]\n",
      " [ 8]\n",
      " [ 9]\n",
      " [10]\n",
      " [11]]\n"
     ]
    }
   ],
   "source": [
    "# Create a numpy array of the above shape where all elements are 1\n",
    "# Add this array to the above column vector\n",
    "arr1= np.full((10),1)\n",
    "col_arr1 = arr1.reshape((10,1))\n",
    "arr0= col_arr+col_arr1\n",
    "print(arr0)\n"
   ]
  },
  {
   "cell_type": "code",
   "execution_count": 24,
   "metadata": {
    "id": "0310rxvx1ha3"
   },
   "outputs": [
    {
     "name": "stdout",
     "output_type": "stream",
     "text": [
      "[[2]\n",
      " [3]\n",
      " [4]\n",
      " [5]\n",
      " [6]]\n"
     ]
    }
   ],
   "source": [
    "# Print out the first 5 rows of the new column vector after addition\n",
    "print(arr0[ :5])\n"
   ]
  },
  {
   "cell_type": "code",
   "execution_count": 37,
   "metadata": {
    "id": "4ETfZUga1jhk"
   },
   "outputs": [
    {
     "name": "stdout",
     "output_type": "stream",
     "text": [
      "[[-75772.24058758]\n",
      " [-95700.46983295]\n",
      " [-46636.13027078]\n",
      " [ -9092.19520648]\n",
      " [ 20174.02698671]\n",
      " [  3839.76821602]\n",
      " [-57084.11981372]\n",
      " [-86031.57777063]\n",
      " [-46514.27325844]\n",
      " [ 18557.04325556]]\n"
     ]
    }
   ],
   "source": [
    "# Create a new array of the same shape which have random values\n",
    "arr2=np.random.random_sample(col_arr.shape)+np.random.randint(-100000,100000,size=(10,1))\n",
    "print(arr2)\n"
   ]
  },
  {
   "cell_type": "code",
   "execution_count": 43,
   "metadata": {
    "id": "cW_PV85q1l5m"
   },
   "outputs": [
    {
     "name": "stdout",
     "output_type": "stream",
     "text": [
      "[[ 1  2  3  4]\n",
      " [ 1  3  5  7]\n",
      " [ 1  4  9 16]\n",
      " [ 1  9 25 49]]\n",
      "[[ 1  2  3  4  1  4  9 16]\n",
      " [ 1  3  5  7  1  9 25 49]]\n"
     ]
    }
   ],
   "source": [
    "# Now perform hstack() and vstack() and print out the shape and write in\n",
    "# one line what difference you observe\n",
    "arr3=np.array([[1,2,3,4],[1,3,5,7]])\n",
    "arr4=np.array([[1,4,9,16],[1,9,25,49]])\n",
    "arr5=np.vstack((arr3,arr4))\n",
    "arr6=np.hstack((arr3,arr4))     \n",
    "print(arr5)\n",
    "print(arr6)\n",
    "#hstack() combines arrays by adding columns at end whereas vstack() combines by adding row at the end       \n",
    "\n",
    "\n"
   ]
  },
  {
   "cell_type": "code",
   "execution_count": 47,
   "metadata": {
    "id": "uZhTfSAVEcNo"
   },
   "outputs": [
    {
     "name": "stdout",
     "output_type": "stream",
     "text": [
      "[   1  441  625 1369   49  256 1296]\n"
     ]
    }
   ],
   "source": [
    "# Make a list conatining 7 numbers (of your choice)\n",
    "# Convert this into numpy array\n",
    "# Explore how to do element wise squaring using (**) operator\n",
    "# Print out the result\n",
    "favlist=[1,21,25,37,7,16,36]\n",
    "arr7=np.array(favlist)\n",
    "arr7=arr7**2\n",
    "print(arr7)"
   ]
  },
  {
   "cell_type": "code",
   "execution_count": 55,
   "metadata": {
    "id": "Ak__1auv1noj"
   },
   "outputs": [
    {
     "name": "stdout",
     "output_type": "stream",
     "text": [
      "[[ 0  4]\n",
      " [-6 -9]]\n",
      "\n",
      "\n",
      "[[-4]\n",
      " [-2]]\n",
      "\n",
      "\n",
      "[[ -4   0]\n",
      " [ -8 -11]]\n"
     ]
    }
   ],
   "source": [
    "# Question 4: End\n",
    "# Explore broadcasting from the internet and explain what you understood with the help of an example.\n",
    "arr8=np.random.randint(-10,10,size=(2,2))\n",
    "print(arr8)\n",
    "arr9=np.random.randint(-10,10,size=(2,1))\n",
    "print(\"\\n\")\n",
    "print(arr9)\n",
    "arr10=arr8+arr9\n",
    "print(\"\\n\")\n",
    "print(arr10)\n",
    "#what it does is it makes a matrix of bigger one(here (2,2)) consisting of repeating smaller matrix(here(2,1)) i.e since for 2,1 to be 2,2 one more column\n",
    "#is needed so it repeats 1st column into second and do operation as requested\n",
    "\n"
   ]
  },
  {
   "cell_type": "markdown",
   "metadata": {
    "id": "QiOvo5JkMl1L"
   },
   "source": [
    "**Dataset Link:** https://www.kaggle.com/datasets/himanshunakrani/iris-dataset"
   ]
  },
  {
   "cell_type": "markdown",
   "metadata": {
    "id": "uJNhA_dcINuG"
   },
   "source": [
    "**If you are using Google Colab:<br>\n",
    "Step 1: Upload the dataset on your drive<br>\n",
    "Step 2: In the left most part of you screen there are 5 options at the top and 3 options at the bottm.<br>\n",
    "Step 3: Click on Files option (last option in the top below the key symbol)<br>\n",
    "Step 4: Click on mount drive and wait.<br>\n",
    "Step 5: Now you can see a folder named drive.<br>\n",
    "Step 6: Click on it. Click on MyDrive. Now you can see all your files here.<br>\n",
    "Step 7: Use Ctrl+F to search the name of the dataset.<br>\n",
    "Step 8: Right click on it and click on copy path**\n",
    "\n",
    "\n",
    "\n",
    "\n"
   ]
  },
  {
   "cell_type": "markdown",
   "metadata": {
    "id": "h6HaxTkDLekA"
   },
   "source": [
    "**If you are using Jupyter Notebook:<br>\n",
    "Step 1: Create a new folder.<br>\n",
    "Step 2: Add the dataset in this folder<br>\n",
    "Step 3: Copy this notebook to the same folder.<br>\n",
    "Step 4: Now you can easily copy the path**"
   ]
  },
  {
   "cell_type": "code",
   "execution_count": 56,
   "metadata": {
    "id": "hGiUFU6q2Oye"
   },
   "outputs": [
    {
     "name": "stdout",
     "output_type": "stream",
     "text": [
      "Requirement already satisfied: pandas in c:\\users\\abdul\\anaconda3\\lib\\site-packages (2.1.4)\n",
      "Requirement already satisfied: numpy<2,>=1.23.2 in c:\\users\\abdul\\anaconda3\\lib\\site-packages (from pandas) (1.26.4)\n",
      "Requirement already satisfied: python-dateutil>=2.8.2 in c:\\users\\abdul\\anaconda3\\lib\\site-packages (from pandas) (2.8.2)\n",
      "Requirement already satisfied: pytz>=2020.1 in c:\\users\\abdul\\anaconda3\\lib\\site-packages (from pandas) (2023.3.post1)\n",
      "Requirement already satisfied: tzdata>=2022.1 in c:\\users\\abdul\\anaconda3\\lib\\site-packages (from pandas) (2023.3)\n",
      "Requirement already satisfied: six>=1.5 in c:\\users\\abdul\\anaconda3\\lib\\site-packages (from python-dateutil>=2.8.2->pandas) (1.16.0)\n"
     ]
    }
   ],
   "source": [
    "# Question 5: Start\n",
    "# import pandas library\n",
    "!pip install pandas\n",
    "import pandas as pd\n"
   ]
  },
  {
   "cell_type": "code",
   "execution_count": 13,
   "metadata": {
    "id": "zI4vNQTBIMdu"
   },
   "outputs": [],
   "source": [
    "# Copy your path and store in the below variable.\n",
    "# Note that the path will be a string\n",
    "\n",
    "# Uncomment the below line\n",
    "path = 'iris.csv'\n",
    "\n",
    "#Load the dataframe\n"
   ]
  },
  {
   "cell_type": "code",
   "execution_count": 31,
   "metadata": {
    "id": "LVCrfnfnNNNm"
   },
   "outputs": [
    {
     "name": "stdout",
     "output_type": "stream",
     "text": [
      "   sepal_length  sepal_width  petal_length  petal_width species\n",
      "0           5.1          3.5           1.4          0.2  setosa\n",
      "1           4.9          3.0           1.4          0.2  setosa\n",
      "2           4.7          3.2           1.3          0.2  setosa\n",
      "3           4.6          3.1           1.5          0.2  setosa\n",
      "4           5.0          3.6           1.4          0.2  setosa\n",
      "5           5.4          3.9           1.7          0.4  setosa\n",
      "6           4.6          3.4           1.4          0.3  setosa\n"
     ]
    }
   ],
   "source": [
    "# Print out the first 7 rows using head()\n",
    "\n",
    "df = pd.read_csv(path)\n",
    "print(df.head(7))\n"
   ]
  },
  {
   "cell_type": "code",
   "execution_count": 32,
   "metadata": {
    "id": "XmY-Ku6rNZQv"
   },
   "outputs": [
    {
     "name": "stdout",
     "output_type": "stream",
     "text": [
      "     sepal_length  sepal_width  petal_length  petal_width    species\n",
      "140           6.7          3.1           5.6          2.4  virginica\n",
      "141           6.9          3.1           5.1          2.3  virginica\n",
      "142           5.8          2.7           5.1          1.9  virginica\n",
      "143           6.8          3.2           5.9          2.3  virginica\n",
      "144           6.7          3.3           5.7          2.5  virginica\n",
      "145           6.7          3.0           5.2          2.3  virginica\n",
      "146           6.3          2.5           5.0          1.9  virginica\n",
      "147           6.5          3.0           5.2          2.0  virginica\n",
      "148           6.2          3.4           5.4          2.3  virginica\n",
      "149           5.9          3.0           5.1          1.8  virginica\n"
     ]
    }
   ],
   "source": [
    "# Print out the last 10 rows\n",
    "print(df.tail(10))"
   ]
  },
  {
   "cell_type": "code",
   "execution_count": 33,
   "metadata": {
    "id": "LvK9ML7YON_s"
   },
   "outputs": [
    {
     "name": "stdout",
     "output_type": "stream",
     "text": [
      "150\n",
      "5\n"
     ]
    }
   ],
   "source": [
    "# How many rows and columns are there in this dataset\n",
    "r,c= df.shape\n",
    "print(r)\n",
    "print(c)"
   ]
  },
  {
   "cell_type": "code",
   "execution_count": 34,
   "metadata": {
    "id": "SJQWkiNDP8FY"
   },
   "outputs": [
    {
     "name": "stdout",
     "output_type": "stream",
     "text": [
      "<class 'pandas.core.frame.DataFrame'>\n",
      "RangeIndex: 150 entries, 0 to 149\n",
      "Data columns (total 5 columns):\n",
      " #   Column        Non-Null Count  Dtype  \n",
      "---  ------        --------------  -----  \n",
      " 0   sepal_length  150 non-null    float64\n",
      " 1   sepal_width   150 non-null    float64\n",
      " 2   petal_length  150 non-null    float64\n",
      " 3   petal_width   150 non-null    float64\n",
      " 4   species       150 non-null    object \n",
      "dtypes: float64(4), object(1)\n",
      "memory usage: 6.0+ KB\n"
     ]
    }
   ],
   "source": [
    "# Print the info of this dataset\n",
    "df.info()"
   ]
  },
  {
   "cell_type": "code",
   "execution_count": 35,
   "metadata": {
    "id": "GPCqLqNNSACB"
   },
   "outputs": [
    {
     "name": "stdout",
     "output_type": "stream",
     "text": [
      "sepal_length    0\n",
      "sepal_width     0\n",
      "petal_length    0\n",
      "petal_width     0\n",
      "species         0\n",
      "dtype: int64\n"
     ]
    }
   ],
   "source": [
    "# Check if the dataset has null values\n",
    "null_values= df.isnull().sum()\n",
    "print(null_values)"
   ]
  },
  {
   "cell_type": "code",
   "execution_count": 36,
   "metadata": {
    "id": "QlmsdjQDQCXv"
   },
   "outputs": [
    {
     "name": "stdout",
     "output_type": "stream",
     "text": [
      "0.7631607417008414\n"
     ]
    }
   ],
   "source": [
    "# From the describe method what is std (standard deviation) of petal_width\n",
    "desc = df.describe()\n",
    "\n",
    "# Print the standard deviation of the 'petal_width' column\n",
    "std_pw = desc.loc['std', 'petal_width']\n",
    "print(std_pw)"
   ]
  },
  {
   "cell_type": "code",
   "execution_count": 37,
   "metadata": {
    "id": "zS5be-zkQYIs"
   },
   "outputs": [
    {
     "name": "stdout",
     "output_type": "stream",
     "text": [
      "Index(['sepal_length', 'sepal_width', 'petal_length', 'petal_width',\n",
      "       'species'],\n",
      "      dtype='object')\n"
     ]
    }
   ],
   "source": [
    "# Print out all the names of the column using a predifined method\n",
    "print(df.columns)"
   ]
  },
  {
   "cell_type": "code",
   "execution_count": 38,
   "metadata": {
    "id": "xpZRSnHTQrTB"
   },
   "outputs": [
    {
     "name": "stdout",
     "output_type": "stream",
     "text": [
      "['setosa' 'versicolor' 'virginica']\n"
     ]
    }
   ],
   "source": [
    "# How many types of values are there in species column\n",
    "val = df['species'].unique()\n",
    "print(val)"
   ]
  },
  {
   "cell_type": "code",
   "execution_count": 39,
   "metadata": {
    "id": "ICI6D0GFQdgL"
   },
   "outputs": [
    {
     "name": "stdout",
     "output_type": "stream",
     "text": [
      "(50, 5)\n"
     ]
    }
   ],
   "source": [
    "# Select all rows whose species column value is setosa\n",
    "# Print out the shape of this dataframe\n",
    "val_setosa = df[df['species'] == 'setosa']\n",
    "print(val_setosa.shape)"
   ]
  },
  {
   "cell_type": "code",
   "execution_count": 40,
   "metadata": {
    "id": "wvevwDbbQy6J"
   },
   "outputs": [
    {
     "name": "stdout",
     "output_type": "stream",
     "text": [
      "(50, 5)\n"
     ]
    }
   ],
   "source": [
    "# Select all rows whose species column value is virginica\n",
    "# Print out the shape of this dataframe\n",
    "val_virginica = df[df['species'] == 'virginica']\n",
    "print(val_virginica.shape)"
   ]
  },
  {
   "cell_type": "code",
   "execution_count": 43,
   "metadata": {
    "id": "fb2o9LD1Q4bx"
   },
   "outputs": [
    {
     "name": "stdout",
     "output_type": "stream",
     "text": [
      "(100, 5)\n"
     ]
    }
   ],
   "source": [
    "# Make a new dataframe called \"df_new\" by concatenating the above dataframes\n",
    "# Print out the shape of this dataframe\n",
    "df_new = pd.concat([val_setosa, val_virginica])\n",
    "print(df_new.shape)"
   ]
  },
  {
   "cell_type": "code",
   "execution_count": 44,
   "metadata": {
    "id": "RI1ChgwdRj0P"
   },
   "outputs": [
    {
     "name": "stdout",
     "output_type": "stream",
     "text": [
      "species\n",
      "setosa       5.006\n",
      "virginica    6.588\n",
      "Name: sepal_length, dtype: float64\n"
     ]
    }
   ],
   "source": [
    "# Print the average sepal_length of these two species\n",
    "avg_sl = df_new.groupby('species')['sepal_length'].mean()\n",
    "print(avg_sl)"
   ]
  },
  {
   "cell_type": "code",
   "execution_count": 49,
   "metadata": {
    "id": "B_bfdYfgR7WE"
   },
   "outputs": [
    {
     "name": "stdout",
     "output_type": "stream",
     "text": [
      "10.35\n",
      "30.02\n"
     ]
    }
   ],
   "source": [
    "# Create a new column called \"sepal_area\" which is computed by taking the product of sepal_length and sepal_width\n",
    "# Print the min and max area\n",
    "df_new['sepal_area'] = df_new['sepal_length'] * df_new['sepal_width']\n",
    "min_area = df_new['sepal_area'].min()\n",
    "max_area = df_new['sepal_area'].max()\n",
    "print(min_area)\n",
    "print(max_area)\n"
   ]
  },
  {
   "cell_type": "code",
   "execution_count": 50,
   "metadata": {
    "id": "fnYZwhJOSQ4Q"
   },
   "outputs": [
    {
     "name": "stdout",
     "output_type": "stream",
     "text": [
      "Index(['sepal_length', 'sepal_width', 'petal_length', 'petal_width', 'species',\n",
      "       'sepal_area'],\n",
      "      dtype='object')\n"
     ]
    }
   ],
   "source": [
    "# Print out all the names of the columns using predefined method\n",
    "print(df_new.columns)"
   ]
  },
  {
   "cell_type": "code",
   "execution_count": 51,
   "metadata": {
    "id": "NbEhQJzHScsN"
   },
   "outputs": [
    {
     "name": "stdout",
     "output_type": "stream",
     "text": [
      "['sepal_length', 'sepal_width', 'petal_width', 'species', 'sepal_area']\n"
     ]
    }
   ],
   "source": [
    "# From the above output copy all the names except petal_length and store it in a list\n",
    "colmns= list(df_new.columns)\n",
    "colmns.remove('petal_length')\n",
    "print(colmns)"
   ]
  },
  {
   "cell_type": "code",
   "execution_count": 53,
   "metadata": {
    "id": "A5AduuCSSs3G"
   },
   "outputs": [
    {
     "name": "stdout",
     "output_type": "stream",
     "text": [
      "(100, 5)\n"
     ]
    }
   ],
   "source": [
    "# From the above list create a new dataframe \"df_new2\" from df_new which have only the columns mentioned in the list\n",
    "# Print out the shape\n",
    "df_new2 = df_new.loc[:, colmns]\n",
    "print(df_new2.shape)\n"
   ]
  },
  {
   "cell_type": "code",
   "execution_count": 57,
   "metadata": {
    "id": "afJyup97TNGP"
   },
   "outputs": [
    {
     "name": "stdout",
     "output_type": "stream",
     "text": [
      "     sepal_length  sepal_width  petal_length  petal_width  species  sepal_area\n",
      "0             5.1          3.5           1.4          0.2        1       17.85\n",
      "1             4.9          3.0           1.4          0.2        1       14.70\n",
      "2             4.7          3.2           1.3          0.2        1       15.04\n",
      "3             4.6          3.1           1.5          0.2        1       14.26\n",
      "4             5.0          3.6           1.4          0.2        1       18.00\n",
      "..            ...          ...           ...          ...      ...         ...\n",
      "145           6.7          3.0           5.2          2.3        0       20.10\n",
      "146           6.3          2.5           5.0          1.9        0       15.75\n",
      "147           6.5          3.0           5.2          2.0        0       19.50\n",
      "148           6.2          3.4           5.4          2.3        0       21.08\n",
      "149           5.9          3.0           5.1          1.8        0       17.70\n",
      "\n",
      "[100 rows x 6 columns]\n"
     ]
    }
   ],
   "source": [
    "# Swap setosa with 1\n",
    "# Swap virginica with 0\n",
    "# Do this using replace()\n",
    "df_new['species'] = df_new['species'].replace({'setosa': 1, 'virginica': 0})\n",
    "print(df_new.head(150))"
   ]
  },
  {
   "cell_type": "markdown",
   "metadata": {
    "id": "0e_hs7ujViAg"
   },
   "source": [
    "**Assignment END<br>\n",
    "Please submit this on teams before the deadline**"
   ]
  }
 ],
 "metadata": {
  "colab": {
   "provenance": []
  },
  "kernelspec": {
   "display_name": "Python 3 (ipykernel)",
   "language": "python",
   "name": "python3"
  },
  "language_info": {
   "codemirror_mode": {
    "name": "ipython",
    "version": 3
   },
   "file_extension": ".py",
   "mimetype": "text/x-python",
   "name": "python",
   "nbconvert_exporter": "python",
   "pygments_lexer": "ipython3",
   "version": "3.11.7"
  }
 },
 "nbformat": 4,
 "nbformat_minor": 4
}
